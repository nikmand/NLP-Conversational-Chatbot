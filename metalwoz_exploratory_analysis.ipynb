{
 "cells": [
  {
   "cell_type": "markdown",
   "metadata": {},
   "source": []
  },
  {
   "cell_type": "code",
   "execution_count": 43,
   "metadata": {},
   "outputs": [],
   "source": [
    "import os\n",
    "import pickle\n",
    "import numpy as np\n",
    "import glob\n",
    "import copy\n",
    "import torch\n",
    "import torchtext\n",
    "import torch.optim as optim\n",
    "import torch.nn.functional as F\n",
    "from transformers import OpenAIGPTModel, OpenAIGPTLMHeadModel, OpenAIGPTDoubleHeadsModel, OpenAIGPTTokenizer\n",
    "from itertools import chain\n",
    "from ast import literal_eval\n",
    "from itertools import zip_longest\n",
    "from sklearn.model_selection import train_test_split\n",
    "from torch.utils.data import Dataset, DataLoader "
   ]
  },
  {
   "cell_type": "code",
   "execution_count": 64,
   "metadata": {},
   "outputs": [],
   "source": [
    "%load_ext autoreload\n",
    "%autoreload 2"
   ]
  },
  {
   "cell_type": "markdown",
   "metadata": {},
   "source": [
    "### Data Preprocessing"
   ]
  },
  {
   "cell_type": "markdown",
   "metadata": {},
   "source": [
    "### Severe TODO \n",
    "H Parser είναι πιο χρονοβόρα από την extract pairs\n",
    "refactor το που γίνεται τι ώστε κάθε συνάρτηση να έχει ένα ρόλο \n",
    "το tokenization δεν κολλάει πολύ στην parser."
   ]
  },
  {
   "cell_type": "markdown",
   "metadata": {},
   "source": [
    "### TODO download with torchtext"
   ]
  },
  {
   "cell_type": "code",
   "execution_count": 4,
   "metadata": {},
   "outputs": [
    {
     "name": "stderr",
     "output_type": "stream",
     "text": [
      "ftfy or spacy is not installed using BERT BasicTokenizer instead of SpaCy & ftfy.\n"
     ]
    }
   ],
   "source": [
    "tokenizer = OpenAIGPTTokenizer.from_pretrained('openai-gpt')"
   ]
  },
  {
   "cell_type": "code",
   "execution_count": 5,
   "metadata": {},
   "outputs": [],
   "source": [
    "workspace = 'C:\\\\Users\\\\nikmand\\\\nikmand\\\\ncsr-chatbot\\\\'  # os.getcwd()\n",
    "\n",
    "# TODO new function for the tokenization process\n",
    "\n",
    "def parser(datafolder='metalwoz-v1\\\\dialoguesTest\\\\'): # rename to parser\n",
    "    \"\"\"\n",
    "    Function that reads files, keeps only 'turns' from each entry and tokenizes them\n",
    "\n",
    "    :param datafolder: path to the folder that contains the files\n",
    "    :return: a list that contains dialogs, each dialog is a list of lists where each of them represents the ids of a phrase \n",
    "    \"\"\"\n",
    "    dialogs = []\n",
    "    dialogs_len = []\n",
    "    files = list(glob.glob(workspace + datafolder + \"*.txt\"))\n",
    "    for file in files:\n",
    "        with open(file) as f:\n",
    "            for line in f.readlines():\n",
    "                dialog = literal_eval(line)['turns'][1:] # keep only turns without the first sentence\n",
    "                dialog = [tokenizer.convert_tokens_to_ids(tokenizer.tokenize(phrase)) for phrase in dialog] # to lowercase is performed by the tokenizer \n",
    "                dialog_len = sum(len(phrase) for phrase in dialog)\n",
    "                dialogs.append(dialog) \n",
    "                dialogs_len.append(dialog_len)\n",
    "    return dialogs, dialogs_len        "
   ]
  },
  {
   "cell_type": "code",
   "execution_count": 8,
   "metadata": {},
   "outputs": [],
   "source": [
    "dialogs, dialogs_len = parser()"
   ]
  },
  {
   "cell_type": "code",
   "execution_count": 479,
   "metadata": {},
   "outputs": [
    {
     "name": "stdout",
     "output_type": "stream",
     "text": [
      "3461\n",
      "269 17\n"
     ]
    }
   ],
   "source": [
    "print(len(dialogs))\n",
    "print(max(dialogs_len), min(dialogs_len))"
   ]
  },
  {
   "cell_type": "code",
   "execution_count": 6,
   "metadata": {},
   "outputs": [],
   "source": [
    "def filter_dialogs(dialogs, dialogs_len, percentile=90):\n",
    "    \n",
    "    d_lens = np.array(dialogs_len)\n",
    "    reasonable_length = np.percentile(d_lens, percentile)\n",
    "    dialogs_reduced = [dialog for dialog, length in zip(dialogs, dialogs_len) if length <= reasonable_length]\n",
    "    \n",
    "    return dialogs_reduced   "
   ]
  },
  {
   "cell_type": "code",
   "execution_count": 9,
   "metadata": {},
   "outputs": [
    {
     "name": "stdout",
     "output_type": "stream",
     "text": [
      "3115\n"
     ]
    }
   ],
   "source": [
    "dialogs_reduced = filter_dialogs(dialogs, dialogs_len)\n",
    "print(len(dialogs_reduced)) "
   ]
  },
  {
   "cell_type": "code",
   "execution_count": 10,
   "metadata": {},
   "outputs": [],
   "source": [
    "def extract_pairs(dialogs, cache_file='cache_folder\\\\pairs.txt'):\n",
    "    \"\"\"\n",
    "    Function that creates pairs of input, output from dialogs, each dialogs corresponds now to many pairs.\n",
    "    \n",
    "    :param: a list with all the dialogs \n",
    "    :return a list whose elements are pairs of input, output  \n",
    "    \"\"\"\n",
    "    try: \n",
    "        with open(cache_file, \"rb\") as f:\n",
    "            print(\"Cache file found loading content.\")\n",
    "            pairs = pickle.load(f)\n",
    "            return pairs\n",
    "    except: # cache file not created yet\n",
    "        print(\"Cache file not found. Start processing.\")\n",
    "        pairs = [] \n",
    "        for dialog in dialogs:\n",
    "            t_dict = {'input': []}\n",
    "            if len(dialog) % 2 != 0: # discard the last phrase if it was said by the user\n",
    "                dialog = dialog[:-1]\n",
    "            dialog_it = iter(dialog)\n",
    "            for i_phrase, o_phrase in zip_longest(dialog_it, dialog_it): # process phrases two by two\n",
    "                try:\n",
    "                    t_dict[\"input\"].append(t_dict[\"output\"])\n",
    "                except:\n",
    "                    pass\n",
    "                t_dict[\"input\"].append(i_phrase) # history\n",
    "                t_dict[\"output\"] = o_phrase\n",
    "                pairs.append(t_dict)\n",
    "                t_dict = copy.deepcopy(t_dict) # so future changes address only the new dict\n",
    "        with open(cache_file, \"wb\") as f:\n",
    "            pickle.dump(pairs, f)\n",
    "        return pairs"
   ]
  },
  {
   "cell_type": "code",
   "execution_count": 11,
   "metadata": {},
   "outputs": [
    {
     "name": "stdout",
     "output_type": "stream",
     "text": [
      "Cache file found loading content.\n"
     ]
    }
   ],
   "source": [
    "pairs = extract_pairs(dialogs_reduced) # list of dictionaries of two keys"
   ]
  },
  {
   "cell_type": "code",
   "execution_count": 12,
   "metadata": {},
   "outputs": [],
   "source": [
    "def adjust_history(pairs, max_history=2): # seq len reduced from 153 to 124\n",
    "    for pair in pairs:\n",
    "        pair['input'] = pair['input'][-(2*max_history+1):] # at least one phrase is preserved\n",
    "    return pairs   "
   ]
  },
  {
   "cell_type": "code",
   "execution_count": 13,
   "metadata": {},
   "outputs": [],
   "source": [
    "max_history = 2 # pairs of question/answer to be retained\n",
    "pairs = adjust_history(pairs)"
   ]
  },
  {
   "cell_type": "code",
   "execution_count": null,
   "metadata": {},
   "outputs": [],
   "source": [
    "def filter_pairs(pairs):\n",
    "    "
   ]
  },
  {
   "cell_type": "code",
   "execution_count": 49,
   "metadata": {},
   "outputs": [
    {
     "name": "stdout",
     "output_type": "stream",
     "text": [
      "15684\n",
      "{'input': [[488, 249, 1074, 12361, 15354, 504, 481, 3361], [249, 2518, 512, 1074, 246, 5358, 500, 481, 3361], [668, 5611, 239, 249, 1074, 688, 504, 2306], [525, 256, 252, 246, 1875, 4778], [912, 249, 1048, 246, 16219, 267]], 'output': [249, 2310, 256, 241, 2153, 485, 699, 512]}\n"
     ]
    }
   ],
   "source": [
    "print(len(pairs))\n",
    "print(pairs[3])"
   ]
  },
  {
   "cell_type": "markdown",
   "metadata": {},
   "source": [
    "### TODO να σώζεται σε αρχείο στην πιο κατάλληλη μορφή. Να δούμε αν βολεύει Pandas ή κάτι άλλο "
   ]
  },
  {
   "cell_type": "markdown",
   "metadata": {},
   "source": [
    "We instantiate a gpt pytorch model with pre-trained weights on language modelling task."
   ]
  },
  {
   "cell_type": "code",
   "execution_count": 14,
   "metadata": {},
   "outputs": [],
   "source": [
    "model = OpenAIGPTLMHeadModel.from_pretrained('openai-gpt')\n",
    "# print(model)\n",
    "# model = OpenAIGPTDoubleHeadsModel.from_pretrained('openai-gpt')\n",
    "# print(model)\n",
    "# model_raw = OpenAIGPTModel.from_pretrained('openai-gpt')\n",
    "# print(model_raw) # without the last linear layer"
   ]
  },
  {
   "cell_type": "markdown",
   "metadata": {},
   "source": [
    "### Tokenizer\n",
    "\n",
    "A helper class used to interact with the vocabulary in which our model has been pre-trained."
   ]
  },
  {
   "cell_type": "code",
   "execution_count": 49,
   "metadata": {},
   "outputs": [
    {
     "name": "stdout",
     "output_type": "stream",
     "text": [
      "Our language model have been pre-trained with a vocabulary of 40478 words.\n"
     ]
    }
   ],
   "source": [
    "print(\"Our language model have been pre-trained with a vocabulary of {} words.\".format(tokenizer.vocab_size))"
   ]
  },
  {
   "cell_type": "code",
   "execution_count": 15,
   "metadata": {},
   "outputs": [],
   "source": [
    "# We will use 5 special tokens:\n",
    "# - <bos> to indicate the start of the sequence\n",
    "# - <eos> to indicate the end of the sequence\n",
    "# - <speaker1> to indicate the beginning and the tokens of an utterance from the user\n",
    "# - <speaker2> to indicate the beginning and the tokens of an utterance from the bot\n",
    "# - <pad> as a padding token to build batches of sequences\n",
    "\n",
    "SPECIAL_TOKENS = [\"<bos>\", \"<eos>\", \"<speaker1>\", \"<speaker2>\", \"<pad>\"]\n",
    "ATTR_TO_SPECIAL_TOKEN = {'bos_token': '<bos>', 'eos_token': '<eos>', 'pad_token': '<pad>',\n",
    "                         'additional_special_tokens': ('<speaker1>', '<speaker2>')}\n",
    "\n",
    "bos, eos, speaker1, speaker2 = \"<bos>\", \"<eos>\", \"<speaker1>\", \"<speaker2>\"\n",
    "\n",
    "MODEL_INPUTS = [\"input_ids\", \"mc_token_ids\", \"lm_labels\", \"mc_labels\", \"token_type_ids\"]\n",
    "PADDED_INPUTS = [\"input_ids\", \"lm_labels\", \"token_type_ids\"]"
   ]
  },
  {
   "cell_type": "code",
   "execution_count": 16,
   "metadata": {},
   "outputs": [],
   "source": [
    "def add_special_tokens_(model, tokenizer):\n",
    "    \"\"\" Add special tokens to the tokenizer and the model if they have not already been added. \"\"\"\n",
    "    orig_num_tokens = len(tokenizer.encoder)\n",
    "    num_added_tokens = tokenizer.add_special_tokens(ATTR_TO_SPECIAL_TOKEN) # doesn't add if they are already there\n",
    "    if num_added_tokens > 0:\n",
    "        model.resize_token_embeddings(new_num_tokens=orig_num_tokens + num_added_tokens)"
   ]
  },
  {
   "cell_type": "code",
   "execution_count": 458,
   "metadata": {},
   "outputs": [
    {
     "data": {
      "text/plain": [
       "Embedding(40483, 768)"
      ]
     },
     "execution_count": 458,
     "metadata": {},
     "output_type": "execute_result"
    }
   ],
   "source": [
    "len(tokenizer.encoder)\n",
    "model.resize_token_embeddings(new_num_tokens=40478 + 5)"
   ]
  },
  {
   "cell_type": "code",
   "execution_count": 17,
   "metadata": {},
   "outputs": [],
   "source": [
    "add_special_tokens_(model, tokenizer)"
   ]
  },
  {
   "cell_type": "markdown",
   "metadata": {},
   "source": [
    "Εμείς έχουμε πάντα περιττού πλήθους history που αρχίζει και τελειώνει με speaker1 και reply που το λέει ο speaker2\n",
    "\n",
    "Για το input_ids: Η λογική είναι αναθέτει τον speaker2 κάθε φορά που μένει άρτιο πλήθος από διαλόγους(περιττό συνολικά μαζί με sos, βλέπε συνθήκη). Εμάς όλες μας οι λίστες έχουν άρτιο πλήθος οπότε θα ξεκινήσει με speaker2 ενώ θέλουμε speaker1. Τα επιμέρους αποτελεσματα όμως είναι συμβατά μεταξύ τους.\n",
    "\n",
    "Στο input_ids το i στο iter παίρνει τιμή i = seq_len - 2 (αφού ξεκινήσαμε από το δεύτερο στοιχείο το iteration)\n",
    "\n",
    "Για το token_type_ids: για κάθε μία λίστα κάνουμε iterate στα στοιχεία της, αν η θέση της λίστας είναι άρτια παίρνει speaker1 αλλιώς speaker2\n",
    "Στο token_type_ids: επειδή το πλήθος είναι περιττό με την προσθήκη του sos θα αλλάξει η σειρά και η πρώτη πρόταση θα πάει speaker2 και το reply speaker1\n",
    "\n",
    "Καταρχάς η αντιστοιχία που δίνουν οι ίδιοι στο δικό τους δεν ταιριάζει με αυτό που είχαμε σκεφτεί \n",
    "Κατά δεύτερο πρέπει να δούμε που θα μπει αν θα μπει το sos, αυτό μας δημιουργεί πρόβλημα αυτή τη στιγμή. Θα μπει μετά το tag του speaker ? \n",
    "\n",
    "είτε θα μπει μόνο του πριν τον speaker\n",
    "σε αυτή την περίπτωση θα πρέπει να παίρνει το tag του speaker1 στα tokens αυτό δε συμβαίνει τώρα και μας μπερδεύει τη σειρά \n",
    "\n",
    "για το label βάζει σε όλα τα inputs εκτός του reply -1, στο speaker2 του reply -1 και βάζει τα tokens του reply."
   ]
  },
  {
   "cell_type": "markdown",
   "metadata": {},
   "source": [
    "Τι ακριβώς θα δούμε με το validation."
   ]
  },
  {
   "cell_type": "code",
   "execution_count": 18,
   "metadata": {},
   "outputs": [],
   "source": [
    "pairs_array = np.array(pairs)"
   ]
  },
  {
   "cell_type": "code",
   "execution_count": 350,
   "metadata": {},
   "outputs": [
    {
     "name": "stdout",
     "output_type": "stream",
     "text": [
      "13996 3500\n"
     ]
    }
   ],
   "source": [
    "pairs_train_l = pairs[:int(len(pairs)*0.8)]\n",
    "pairs_eval_l = pairs[int(len(pairs)*0.8):]\n",
    "print(len(pairs_train_l), len(pairs_eval_l))"
   ]
  },
  {
   "cell_type": "markdown",
   "metadata": {},
   "source": [
    "### Για διαχωρισμό σε train test\n",
    "υπάρχει κάτι που να δημιουργεί πρόβλημα;\n",
    "μπορεί να μας ενοχλεί ότι ζεύγη που έρχονται από διαφορετικούς διαλόγους θα χωριστούν; μας ενοχλεί αν δεν μπαίνουν με τη σειρά;\n",
    "αν δεν κάνουμε τυχαίο split κάποια domains δε θα εμφανίζονται στο train set"
   ]
  },
  {
   "cell_type": "code",
   "execution_count": 19,
   "metadata": {},
   "outputs": [],
   "source": [
    "pairs_train, pairs_eval = train_test_split(pairs_array, test_size=0.2, shuffle=True)      "
   ]
  },
  {
   "cell_type": "code",
   "execution_count": 61,
   "metadata": {},
   "outputs": [
    {
     "name": "stdout",
     "output_type": "stream",
     "text": [
      "(12547,) (3137,)\n",
      "{'input': [[13659, 2679], [1304, 239, 718, 1272, 12286, 587, 512, 966, 507, 485, 580, 257], [277], [566, 2499, 13659, 239, 587, 512, 604, 246, 5052, 5855, 257], [13103, 3597, 246, 3592]], 'output': [1304, 886, 507, 239, 544, 655, 246, 7537, 1807, 512, 640, 1081, 491, 257]}\n",
      "wwwwwww\n",
      "[[249, 966, 485, 5838, 531, 4895]]\n"
     ]
    }
   ],
   "source": [
    "print(pairs_train.shape, pairs_eval.shape)\n",
    "print(pairs_train[0])\n",
    "print(\"wwwwwww\")\n",
    "print(pairs_eval[0]['input'])"
   ]
  },
  {
   "cell_type": "code",
   "execution_count": 59,
   "metadata": {},
   "outputs": [
    {
     "name": "stdout",
     "output_type": "stream",
     "text": [
      "(12547,) (3137,)\n",
      "{'input': [[249, 966, 485, 34427, 531, 4895], [881], [1462, 547, 6307, 4895, 1572], [1304, 1256, 239], [1462, 481, 43, 10458, 6307, 4895, 485, 44, 10458, 504, 5513]], 'output': [1304, 239, 636, 512, 1362, 507, 257]}\n",
      "wwwwwww\n",
      "[[759, 512, 5838, 547, 292, 1048, 4895, 504, 5498, 488, 11072, 507, 485, 1099, 2433, 850, 257], [773, 512, 823, 704, 54, 1048, 4895, 617, 5498, 822, 5375, 257], [685, 240, 525, 256, 252, 770, 239], [773, 240, 4895, 544, 1233, 239, 544, 655, 1033, 1284, 249, 759, 587, 562, 512, 257], [2548, 239, 1359, 635, 512, 1233, 481, 8358, 485, 11477, 297, 562, 525, 257]]\n"
     ]
    }
   ],
   "source": [
    "print(pairs_train.shape, pairs_eval.shape)\n",
    "print(pairs_train[0])\n",
    "print(\"wwwwwww\")\n",
    "print(pairs_eval[0]['input'])"
   ]
  },
  {
   "cell_type": "markdown",
   "metadata": {},
   "source": [
    "Θέλω στο μοντέλο μου να δίνω τρία inputs όπως το παράγει η συνάρτηση build, συνεπώς αυτό θέλω να μου γυρίζει η συνάρτηση get item "
   ]
  },
  {
   "cell_type": "markdown",
   "metadata": {},
   "source": [
    "### TODO check if we can use torchtext"
   ]
  },
  {
   "cell_type": "code",
   "execution_count": 20,
   "metadata": {},
   "outputs": [],
   "source": [
    "class DialogDataset(Dataset):\n",
    "\n",
    "    def __init__(self, dialog_pairs):\n",
    "        self.dataset = self.create_segments(dialog_pairs)\n",
    "        self.dataset = self.pad_sequenses(self.dataset, tokenizer.convert_tokens_to_ids(SPECIAL_TOKENS[-1])) # χρειάζεται η ανάθεση ?\n",
    "\n",
    "    def __len__(self):\n",
    "        return len(self.dataset)\n",
    "    \n",
    "    def create_segments(self, dialog_pairs):\n",
    "        dataset = []\n",
    "        for pair in dialog_pairs:\n",
    "            instance = build_input_from_segments(pair['input'], pair['output'], tokenizer)\n",
    "            dataset.append(instance)\n",
    "        return dataset\n",
    "    \n",
    "    def pad_sequenses(self, dataset, padding=0):\n",
    "        # TODO create mask for each entry\n",
    "        max_seq_len = max(len(entry[\"input_ids\"]) for entry in dataset)\n",
    "        print(max_seq_len)\n",
    "        for entry in dataset:\n",
    "            for index_name in entry.keys():\n",
    "                entry[index_name] =  entry[index_name] + [padding if index_name != \"lm_labels\" else -1] * (max_seq_len - len(entry[index_name]))\n",
    "        return dataset    \n",
    "\n",
    "    def __getitem__(self, index):\n",
    "#         index_ids = self.index_ids[index]\n",
    "#         category_ids = self.category[index]\n",
    "#         labels_ids = self.labels[index]\n",
    "        sample = self.dataset[index]\n",
    "        return (np.array(sample['input_ids']), np.array(sample['token_type_ids']), np.array(sample[\"lm_labels\"]))"
   ]
  },
  {
   "cell_type": "code",
   "execution_count": 438,
   "metadata": {
    "jupyter": {
     "source_hidden": true
    }
   },
   "outputs": [],
   "source": [
    "def create_segments(dialog_pairs):\n",
    "    dataset = []\n",
    "    for pair in dialog_pairs:\n",
    "        instance = build_input_from_segments(pair['input'], pair['output'], tokenizer)\n",
    "        dataset.append(instance)\n",
    "    return dataset\n",
    "\n",
    "\n",
    "def pad_sequenses(dataset, padding=0):\n",
    "    # TODO create mask for each entry\n",
    "    max_seq_len = max(len(entry[\"input_ids\"]) for entry in dataset)\n",
    "    print(max_seq_len)\n",
    "    for entry in dataset:\n",
    "        for index_name in entry.keys():\n",
    "            entry[index_name] =  entry[index_name] + [padding if index_name != \"lm_labels\" else -1] * (max_seq_len - len(entry[index_name]))\n",
    "        # entry[index_name] =  [ for index_name in entry.keys()]\n",
    "    return dataset    "
   ]
  },
  {
   "cell_type": "code",
   "execution_count": 435,
   "metadata": {
    "jupyter": {
     "source_hidden": true
    }
   },
   "outputs": [],
   "source": [
    "test_1 = create_segments(pairs_train)\n",
    "test_2 = pad_sequenses(test_1)\n",
    "test_1[0]\n",
    "test_2[0]"
   ]
  },
  {
   "cell_type": "code",
   "execution_count": 21,
   "metadata": {},
   "outputs": [],
   "source": [
    "def build_input_from_segments(history, reply, tokenizer, with_eos=True):\n",
    "    \"\"\" Build a sequence of input from 2 segments:  history and last reply. \"\"\"\n",
    "    bos, eos, speaker1, speaker2 = tokenizer.convert_tokens_to_ids(SPECIAL_TOKENS[:-1])\n",
    "    sequence = [[bos]] + history + [reply + ([eos] if with_eos else [])]\n",
    "    seq_len = len(sequence) # sequence λίστα από λίστες\n",
    "    # print(seq_len)\n",
    "    sequence = [sequence[0]] + [[speaker2 if (seq_len-i) % 2 != 1 else speaker1] + s for i, s in enumerate(sequence[1:])]\n",
    "    # print(sequence)\n",
    "    instance = {}\n",
    "    instance[\"input_ids\"] = list(chain(*sequence)) # words\n",
    "    instance[\"token_type_ids\"] = [speaker1] + [speaker2 if i % 2 else speaker1 for i, s in enumerate(sequence[1:]) for _ in s] # for each word\n",
    "    # TODO mask\n",
    "    instance[\"lm_labels\"] = ([-1] * sum(len(s) for s in sequence[:-1])) + [-1] + sequence[-1][1:]\n",
    "    return instance"
   ]
  },
  {
   "cell_type": "code",
   "execution_count": null,
   "metadata": {},
   "outputs": [],
   "source": [
    "def pad_dataset(dataset, padding=0):\n",
    "    \"\"\" Pad the dataset. This could be optimized by defining a Dataset class and padding at the batch level, but this is simpler. \"\"\"\n",
    "    max_l = max(len(x) for x in dataset[\"input_ids\"])\n",
    "    for name in PADDED_INPUTS:\n",
    "        dataset[name] = [x + [padding if name != \"lm_labels\" else -1] * (max_l - len(x)) for x in dataset[name]]\n",
    "    return dataset"
   ]
  },
  {
   "cell_type": "code",
   "execution_count": 22,
   "metadata": {},
   "outputs": [
    {
     "name": "stdout",
     "output_type": "stream",
     "text": [
      "124\n",
      "116\n"
     ]
    }
   ],
   "source": [
    "training_set = DialogDataset(pairs_train) \n",
    "validation_set = DialogDataset(pairs_eval)"
   ]
  },
  {
   "cell_type": "code",
   "execution_count": 23,
   "metadata": {},
   "outputs": [],
   "source": [
    "BATCH_SIZE = 32 \n",
    "\"\"\"\n",
    "TODO: pad on batch level \n",
    "\n",
    "in order to avoid padding to the global max_len we can define our own collate_fn\n",
    "which forms the samples into batches and call inside there the pad function.\n",
    "Samples should be allocated to batches based on their sequence length in order to\n",
    "minimize the need for padding.\n",
    "\"\"\" \n",
    "\n",
    "dataloader_train = DataLoader(training_set, batch_size=BATCH_SIZE, shuffle=True, num_workers=0) # has shuffle any sideffects here?\n",
    "dataloader_valid = DataLoader(validation_set, batch_size=BATCH_SIZE, shuffle=True, num_workers=0)"
   ]
  },
  {
   "cell_type": "markdown",
   "metadata": {},
   "source": [
    "### Training procedure"
   ]
  },
  {
   "cell_type": "code",
   "execution_count": 24,
   "metadata": {},
   "outputs": [
    {
     "name": "stdout",
     "output_type": "stream",
     "text": [
      "<class 'tuple'>\n"
     ]
    },
    {
     "ename": "AttributeError",
     "evalue": "'tuple' object has no attribute 'shape'",
     "output_type": "error",
     "traceback": [
      "\u001b[1;31m---------------------------------------------------------------------------\u001b[0m",
      "\u001b[1;31mAttributeError\u001b[0m                            Traceback (most recent call last)",
      "\u001b[1;32m<ipython-input-24-537d40623afe>\u001b[0m in \u001b[0;36m<module>\u001b[1;34m\u001b[0m\n\u001b[0;32m     19\u001b[0m         \u001b[0moutputs\u001b[0m \u001b[1;33m=\u001b[0m \u001b[0mmodel\u001b[0m\u001b[1;33m(\u001b[0m\u001b[0minput_ids\u001b[0m\u001b[1;33m=\u001b[0m\u001b[0minput_ids\u001b[0m\u001b[1;33m.\u001b[0m\u001b[0mtype\u001b[0m\u001b[1;33m(\u001b[0m\u001b[0mtorch\u001b[0m\u001b[1;33m.\u001b[0m\u001b[0mLongTensor\u001b[0m\u001b[1;33m)\u001b[0m\u001b[1;33m,\u001b[0m \u001b[0mtoken_type_ids\u001b[0m\u001b[1;33m=\u001b[0m\u001b[0mcategory_ids\u001b[0m\u001b[1;33m.\u001b[0m\u001b[0mtype\u001b[0m\u001b[1;33m(\u001b[0m\u001b[0mtorch\u001b[0m\u001b[1;33m.\u001b[0m\u001b[0mLongTensor\u001b[0m\u001b[1;33m)\u001b[0m\u001b[1;33m,\u001b[0m \u001b[0mlabels\u001b[0m\u001b[1;33m=\u001b[0m\u001b[0mlabel_ids\u001b[0m\u001b[1;33m.\u001b[0m\u001b[0mtype\u001b[0m\u001b[1;33m(\u001b[0m\u001b[0mtorch\u001b[0m\u001b[1;33m.\u001b[0m\u001b[0mLongTensor\u001b[0m\u001b[1;33m)\u001b[0m\u001b[1;33m)\u001b[0m\u001b[1;33m\u001b[0m\u001b[1;33m\u001b[0m\u001b[0m\n\u001b[0;32m     20\u001b[0m         \u001b[0mprint\u001b[0m\u001b[1;33m(\u001b[0m\u001b[0mtype\u001b[0m\u001b[1;33m(\u001b[0m\u001b[0moutputs\u001b[0m\u001b[1;33m)\u001b[0m\u001b[1;33m)\u001b[0m\u001b[1;33m\u001b[0m\u001b[1;33m\u001b[0m\u001b[0m\n\u001b[1;32m---> 21\u001b[1;33m         \u001b[0mprint\u001b[0m\u001b[1;33m(\u001b[0m\u001b[0moutputs\u001b[0m\u001b[1;33m.\u001b[0m\u001b[0mshape\u001b[0m\u001b[1;33m)\u001b[0m\u001b[1;33m\u001b[0m\u001b[1;33m\u001b[0m\u001b[0m\n\u001b[0m\u001b[0;32m     22\u001b[0m         \u001b[0mloss\u001b[0m\u001b[1;33m,\u001b[0m \u001b[0mlogits\u001b[0m \u001b[1;33m=\u001b[0m \u001b[0moutputs\u001b[0m\u001b[1;33m[\u001b[0m\u001b[1;33m:\u001b[0m\u001b[1;36m2\u001b[0m\u001b[1;33m]\u001b[0m\u001b[1;33m\u001b[0m\u001b[1;33m\u001b[0m\u001b[0m\n\u001b[0;32m     23\u001b[0m         \u001b[0moptimizer\u001b[0m\u001b[1;33m.\u001b[0m\u001b[0mzero_grad\u001b[0m\u001b[1;33m(\u001b[0m\u001b[1;33m)\u001b[0m \u001b[1;31m# model.zero_grad() and optimizer.zero_grad() are the same IF all your model parameters are in that optimizer.\u001b[0m\u001b[1;33m\u001b[0m\u001b[1;33m\u001b[0m\u001b[0m\n",
      "\u001b[1;31mAttributeError\u001b[0m: 'tuple' object has no attribute 'shape'"
     ]
    }
   ],
   "source": [
    "epochs = 1\n",
    "min_loss, max_patience, cur_patience = np.inf, 10, 0\n",
    "save_file = \"chatbot.pkl\"\n",
    "use_cuda = False\n",
    "\n",
    "# loss_function = nn. check it την διαλέγει μόνο του?\n",
    "# αν δοθεί το labels αρχικοποιεί και χρησιμοποιεί εσωτερικά το crossEntropyLoss\n",
    "# να πούμε αναλυτικά τι κάνει σε πρώτη φάση, αν δε το γράψουμε χεράτα.\n",
    "optimizer = optim.Adam(model.parameters(), lr=1e-3, weight_decay=0.001) # TODO review those values\n",
    "for epoch in range(epochs):\n",
    "    # aux staff here\n",
    "    model.train()\n",
    "    for i_batch, (input_ids, category_ids, label_ids) in enumerate(dataloader_train):\n",
    "#         print(type(input_ids))\n",
    "#         print(input_ids.shape)\n",
    "#         print(category_ids.shape)\n",
    "#         print(label_ids.shape)\n",
    "        \n",
    "        outputs = model(input_ids=input_ids.type(torch.LongTensor), token_type_ids=category_ids.type(torch.LongTensor), labels=label_ids.type(torch.LongTensor))\n",
    "        print(type(outputs))\n",
    "        loss, logits = outputs[:2]\n",
    "        optimizer.zero_grad() # model.zero_grad() and optimizer.zero_grad() are the same IF all your model parameters are in that optimizer.\n",
    "        loss.backward()\n",
    "        optimizer.step()\n",
    "\n",
    "        break\n",
    "        # στο loss που παίρνω μπορώ να κάνω backward απ' ότι καταλαβαίνω\n",
    "        \n",
    "        "
   ]
  },
  {
   "cell_type": "markdown",
   "metadata": {},
   "source": [
    "### Interaction with the bot - Inference"
   ]
  },
  {
   "cell_type": "code",
   "execution_count": 33,
   "metadata": {},
   "outputs": [
    {
     "name": "stdout",
     "output_type": "stream",
     "text": [
      "tensor(5.4054, grad_fn=<NllLossBackward>)\n",
      "torch.Size([32, 124, 40483])\n"
     ]
    }
   ],
   "source": [
    "loss, logits = outputs[:2]\n",
    "print(loss)\n",
    "print(logits.shape)"
   ]
  },
  {
   "cell_type": "code",
   "execution_count": 37,
   "metadata": {},
   "outputs": [
    {
     "data": {
      "text/plain": [
       "[1, 2, 3]"
      ]
     },
     "execution_count": 37,
     "metadata": {},
     "output_type": "execute_result"
    }
   ],
   "source": [
    "# στο inference δε θα έχουμε και batch size"
   ]
  },
  {
   "cell_type": "code",
   "execution_count": 38,
   "metadata": {
    "collapsed": true,
    "jupyter": {
     "outputs_hidden": true
    }
   },
   "outputs": [
    {
     "name": "stdout",
     "output_type": "stream",
     "text": [
      "<class 'tuple'>\n"
     ]
    },
    {
     "data": {
      "text/plain": [
       "(tensor(5.4054, grad_fn=<NllLossBackward>),\n",
       " tensor([[[-6.8270e+00, -5.1480e+00, -1.4599e+01,  ..., -7.1771e-02,\n",
       "           -1.7477e-01,  1.8670e-01],\n",
       "          [-6.5358e+00, -4.3700e+00, -1.6620e+01,  ..., -8.7291e-02,\n",
       "           -1.5867e-01, -2.9118e-02],\n",
       "          [-8.2156e+00, -6.3832e+00, -1.7013e+01,  ...,  5.5620e-01,\n",
       "           -1.1814e-01, -2.9782e-01],\n",
       "          ...,\n",
       "          [-1.2801e+01, -8.7652e+00, -2.6256e+01,  ..., -3.1690e-01,\n",
       "            6.3778e-01, -4.1183e-01],\n",
       "          [-1.1294e+01, -7.7073e+00, -2.4735e+01,  ..., -1.1635e-01,\n",
       "            4.8181e-01, -1.6620e-01],\n",
       "          [-6.5671e+00, -6.4111e+00, -1.9933e+01,  ...,  8.8566e-01,\n",
       "            2.2745e-02, -5.7829e-01]],\n",
       " \n",
       "         [[-6.0289e+00, -4.5151e+00, -1.4368e+01,  ..., -5.1612e-02,\n",
       "            9.1838e-03,  3.1871e-02],\n",
       "          [-6.5700e+00, -5.3415e+00, -1.5620e+01,  ..., -4.2843e-02,\n",
       "           -2.6688e-01,  1.7687e-02],\n",
       "          [-7.6886e+00, -6.2864e+00, -1.8002e+01,  ...,  2.7619e-01,\n",
       "           -3.5955e-02, -3.0932e-01],\n",
       "          ...,\n",
       "          [-1.0962e+01, -6.4478e+00, -2.5190e+01,  ..., -1.9285e-01,\n",
       "           -4.1398e-01, -1.7366e-01],\n",
       "          [-1.0070e+01, -7.5370e+00, -2.1664e+01,  ...,  5.9814e-01,\n",
       "           -1.2711e-01, -8.9273e-02],\n",
       "          [-8.2739e+00, -4.8366e+00, -2.0907e+01,  ...,  4.0923e-01,\n",
       "           -5.2020e-01, -6.2319e-01]],\n",
       " \n",
       "         [[-6.8209e+00, -4.8734e+00, -1.5120e+01,  ...,  1.2742e-01,\n",
       "           -6.8726e-02,  2.2052e-01],\n",
       "          [-5.1736e+00, -4.4726e+00, -1.4171e+01,  ...,  2.3950e-01,\n",
       "            4.6876e-01,  4.7341e-02],\n",
       "          [-8.8527e+00, -4.7202e+00, -1.7430e+01,  ..., -2.1288e-02,\n",
       "           -8.2190e-02, -1.3033e-01],\n",
       "          ...,\n",
       "          [-8.9882e+00, -6.5602e+00, -2.2629e+01,  ...,  7.7574e-02,\n",
       "            8.4794e-02,  3.3930e-02],\n",
       "          [-8.7722e+00, -4.8112e+00, -2.0540e+01,  ...,  2.8106e-01,\n",
       "           -1.0149e-02,  1.9954e-01],\n",
       "          [-8.0589e+00, -4.6940e+00, -2.1196e+01,  ...,  4.5803e-01,\n",
       "           -1.7239e-01,  9.7800e-02]],\n",
       " \n",
       "         ...,\n",
       " \n",
       "         [[-6.8419e+00, -5.2807e+00, -1.5009e+01,  ...,  1.1995e-01,\n",
       "            3.9080e-02,  2.5080e-02],\n",
       "          [-7.9589e+00, -6.5500e+00, -2.1919e+01,  ..., -8.1295e-02,\n",
       "            2.5486e-01, -2.9868e-01],\n",
       "          [-4.1144e+00, -4.1704e+00, -1.5319e+01,  ...,  3.2887e-01,\n",
       "            2.1838e-01, -1.3805e-01],\n",
       "          ...,\n",
       "          [-7.2963e+00, -6.8599e+00, -2.0598e+01,  ..., -5.6707e-02,\n",
       "           -4.2635e-02, -8.5654e-02],\n",
       "          [-7.7984e+00, -7.4890e+00, -2.3310e+01,  ..., -1.3546e-02,\n",
       "            1.2056e-01, -3.5020e-01],\n",
       "          [-8.2981e+00, -6.1507e+00, -2.1593e+01,  ...,  2.8642e-01,\n",
       "            3.7520e-02, -8.1965e-01]],\n",
       " \n",
       "         [[-6.4792e+00, -5.7282e+00, -1.4557e+01,  ..., -7.2153e-02,\n",
       "           -1.3262e-02,  1.7723e-01],\n",
       "          [-9.2767e+00, -8.0972e+00, -1.5889e+01,  ..., -3.3572e-02,\n",
       "            4.5565e-01,  2.9761e-01],\n",
       "          [-8.0634e+00, -5.7852e+00, -1.6787e+01,  ...,  8.9800e-01,\n",
       "            1.8244e-01, -1.1800e-01],\n",
       "          ...,\n",
       "          [-9.5317e+00, -9.4210e+00, -2.8375e+01,  ...,  3.1141e-01,\n",
       "            4.8158e-01,  1.7627e-01],\n",
       "          [-8.4748e+00, -3.2547e+00, -2.2592e+01,  ...,  1.1836e+00,\n",
       "           -2.5573e-01, -1.2925e-01],\n",
       "          [-8.8269e+00, -7.1080e+00, -2.4955e+01,  ...,  1.2652e-01,\n",
       "            1.5103e-01,  3.2787e-01]],\n",
       " \n",
       "         [[-6.6186e+00, -4.6769e+00, -1.4994e+01,  ...,  1.1475e-01,\n",
       "           -5.7942e-02,  1.4754e-01],\n",
       "          [-5.0313e+00, -3.4790e+00, -1.3154e+01,  ...,  2.6457e-01,\n",
       "            4.6930e-01, -1.6019e-01],\n",
       "          [-7.5820e+00, -6.5107e+00, -1.6747e+01,  ...,  4.6289e-02,\n",
       "            1.1468e-01,  1.5170e-01],\n",
       "          ...,\n",
       "          [-7.7950e+00, -4.6429e+00, -1.8462e+01,  ...,  5.3283e-01,\n",
       "           -1.3469e-01, -1.9657e-01],\n",
       "          [-9.3357e+00, -5.0435e+00, -1.9791e+01,  ...,  2.3631e-01,\n",
       "            1.9767e-01, -9.4454e-02],\n",
       "          [-8.8439e+00, -4.6873e+00, -1.9834e+01,  ...,  3.9788e-01,\n",
       "           -2.7957e-01, -2.7329e-01]]], grad_fn=<UnsafeViewBackward>))"
      ]
     },
     "execution_count": 38,
     "metadata": {},
     "output_type": "execute_result"
    }
   ],
   "source": [
    "model.eval()\n",
    "outputs_e = model(input_ids=input_ids.type(torch.LongTensor), token_type_ids=category_ids.type(torch.LongTensor))\n",
    "print(type(outputs_e))"
   ]
  },
  {
   "cell_type": "code",
   "execution_count": 44,
   "metadata": {},
   "outputs": [
    {
     "name": "stdout",
     "output_type": "stream",
     "text": [
      "1\n",
      "torch.Size([32, 124, 40483])\n",
      "torch.Size([40483])\n"
     ]
    }
   ],
   "source": [
    "temperature = 0.65 # increase confidence in the most propable outputs \n",
    "print(len(outputs_e))\n",
    "print(outputs_e[0].shape)\n",
    "logits_e = outputs_e[0]\n",
    "logits_e = logits_e[0, -1, :] / temperature\n",
    "print(logits_e.shape)"
   ]
  },
  {
   "cell_type": "code",
   "execution_count": 50,
   "metadata": {},
   "outputs": [],
   "source": [
    "probs = F.softmax(logits_e, dim=-1)\n",
    "word = torch.argmax(probs)\n",
    "word_3 = torch.argmax(logits_e)\n",
    "# word_2 = torch.topk(probs, 1)[1]"
   ]
  },
  {
   "cell_type": "code",
   "execution_count": 1,
   "metadata": {},
   "outputs": [
    {
     "ename": "NameError",
     "evalue": "name 'word' is not defined",
     "output_type": "error",
     "traceback": [
      "\u001b[1;31m---------------------------------------------------------------------------\u001b[0m",
      "\u001b[1;31mNameError\u001b[0m                                 Traceback (most recent call last)",
      "\u001b[1;32m<ipython-input-1-842f96491ec1>\u001b[0m in \u001b[0;36m<module>\u001b[1;34m\u001b[0m\n\u001b[1;32m----> 1\u001b[1;33m \u001b[0mprint\u001b[0m\u001b[1;33m(\u001b[0m\u001b[0mword\u001b[0m\u001b[1;33m.\u001b[0m\u001b[0mitem\u001b[0m\u001b[1;33m(\u001b[0m\u001b[1;33m)\u001b[0m\u001b[1;33m)\u001b[0m\u001b[1;33m\u001b[0m\u001b[1;33m\u001b[0m\u001b[0m\n\u001b[0m\u001b[0;32m      2\u001b[0m \u001b[0mprint\u001b[0m\u001b[1;33m(\u001b[0m\u001b[0mword_3\u001b[0m\u001b[1;33m.\u001b[0m\u001b[0mitem\u001b[0m\u001b[1;33m(\u001b[0m\u001b[1;33m)\u001b[0m\u001b[1;33m)\u001b[0m\u001b[1;33m\u001b[0m\u001b[1;33m\u001b[0m\u001b[0m\n",
      "\u001b[1;31mNameError\u001b[0m: name 'word' is not defined"
     ]
    }
   ],
   "source": [
    "print(word.item()) \n",
    "print(word_3.item())"
   ]
  },
  {
   "cell_type": "code",
   "execution_count": 3,
   "metadata": {},
   "outputs": [
    {
     "name": "stdout",
     "output_type": "stream",
     "text": [
      "bot:>>> Hello how may I help you?\n"
     ]
    },
    {
     "name": "stdin",
     "output_type": "stream",
     "text": [
      "user:>>>  cant\n"
     ]
    },
    {
     "name": "stdout",
     "output_type": "stream",
     "text": [
      "bot:>>> opa\n"
     ]
    },
    {
     "name": "stdin",
     "output_type": "stream",
     "text": [
      "user:>>>  ti\n"
     ]
    },
    {
     "name": "stdout",
     "output_type": "stream",
     "text": [
      "bot:>>> opa\n"
     ]
    },
    {
     "name": "stdin",
     "output_type": "stream",
     "text": [
      "user:>>>  \\q\n"
     ]
    }
   ],
   "source": [
    "bot_prompt = \"bot:>>> \"\n",
    "user_prompt = \"user:>>> \"\n",
    "\n",
    "history = []\n",
    "print(bot_prompt + \"Hello how may I help you?\")\n",
    "user_input = input(user_prompt)\n",
    "while user_input != \"\\q\":\n",
    "    history.append(tokenizer.encode(user_input))\n",
    "    with torch.no_grad():\n",
    "        answer_ids = 521 # bot\n",
    "    history.append(answer_ids)\n",
    "    history = history[-(2*max_history+1):]  # keep a \n",
    "    answer_text = tokenizer.decode(answer_ids, skip_special_tokens=True)\n",
    "    print(bot_prompt + answer_text)\n",
    "    user_input = input(user_prompt) "
   ]
  },
  {
   "cell_type": "code",
   "execution_count": null,
   "metadata": {},
   "outputs": [],
   "source": [
    "def decoding():"
   ]
  },
  {
   "cell_type": "markdown",
   "metadata": {},
   "source": [
    "# DEBUG AREA"
   ]
  },
  {
   "cell_type": "code",
   "execution_count": 35,
   "metadata": {},
   "outputs": [],
   "source": [
    "a = [1,2,3]\n",
    "it = iter(a)\n",
    "testt = [it]*3\n",
    "\n",
    "test_tok = tokenizer.tokenize('I agree that I am moderately bearable!')\n",
    "tokenizer.convert_tokens_to_ids(test_tok) # all tokens must be lowercase "
   ]
  },
  {
   "cell_type": "code",
   "execution_count": 233,
   "metadata": {},
   "outputs": [
    {
     "data": {
      "text/plain": [
       "512"
      ]
     },
     "execution_count": 233,
     "metadata": {},
     "output_type": "execute_result"
    }
   ],
   "source": [
    "tokenizer.max_len # what does it means ?"
   ]
  },
  {
   "cell_type": "code",
   "execution_count": 372,
   "metadata": {},
   "outputs": [
    {
     "name": "stdout",
     "output_type": "stream",
     "text": [
      "input_ids\n",
      "token_type_ids\n",
      "lm_labels\n"
     ]
    }
   ],
   "source": [
    "for index_name in instance.keys():\n",
    "    print(index_name)"
   ]
  },
  {
   "cell_type": "code",
   "execution_count": 41,
   "metadata": {},
   "outputs": [],
   "source": [
    "# debug cell\n",
    "def build_inputs(persona, history, reply):\n",
    "    # Build our sequence by adding delimiters and concatenating\n",
    "    sequence = [[bos] + list(chain(*persona))] + history + [reply + [eos]]\n",
    "    sequence = [sequence[0]] + [ [speaker2 if (len(sequence)-i) % 2 else speaker1] + s\n",
    "                                for i, s in enumerate(sequence[1:])]\n",
    "    # Build our word, segments and position inputs from the sequence\n",
    "    words = list(chain(*sequence))                          # word tokens\n",
    "    segments = [speaker2 if i % 2 else speaker1             # segment tokens\n",
    "                for i, s in enumerate(sequence) for _ in s]\n",
    "    position = list(range(len(words)))                      # position tokens\n",
    "    return words, segments, position, sequence\n",
    "\n",
    "persona = [[\"i\", \"like\", \"playing\", \"football\", \".\"],\n",
    "           [\"i\", \"am\", \"from\", \"NYC\", \".\"]]\n",
    "history = [[\"hello\", \"how\", \"are\", \"you\", \"?\"],\n",
    "           [\"i\", \"am\", \"fine\", \"thanks\", \".\"]]\n",
    "reply = [\"great\", \"to\", \"hear\"]\n",
    "\n",
    "sequence = [[\"<bos>\"] + list(chain(*persona))] + history +  [reply + [\"<eos>\"]]\n",
    "sequence = [sequence[0]] + [ [speaker2 if (len(sequence)-i) % 2 else speaker1] + s for i, s in enumerate(sequence[1:])]\n",
    "print(sequence)\n",
    "print(list(chain(*sequence))   )\n",
    "[speaker2 if i % 2 else speaker1 for i, s in enumerate(sequence) for _ in s]\n",
    "\n",
    "def build_input_from_segments_or(persona, history, reply, tokenizer, lm_labels=False, with_eos=True):\n",
    "    \"\"\" Build a sequence of input from 3 segments: persona, history and last reply. \"\"\"\n",
    "    bos, eos, speaker1, speaker2 = tokenizer.convert_tokens_to_ids(SPECIAL_TOKENS[:-1])\n",
    "    sequence = [[bos] + list(chain(*persona))] + history + [reply + ([eos] if with_eos else [])]  # chain: expands the lists  \n",
    "    sequence = [sequence[0]] + [[speaker2 if (len(sequence)-i) % 2 else speaker1] + s for i, s in enumerate(sequence[1:])]\n",
    "    instance = {}\n",
    "    instance[\"input_ids\"] = list(chain(*sequence)) # words\n",
    "    instance[\"token_type_ids\"] = [speaker2 if i % 2 else speaker1 for i, s in enumerate(sequence) for _ in s]\n",
    "    instance[\"mc_token_ids\"] = len(instance[\"input_ids\"]) - 1\n",
    "    instance[\"lm_labels\"] = [-1] * len(instance[\"input_ids\"])\n",
    "    if lm_labels:\n",
    "        instance[\"lm_labels\"] = ([-1] * sum(len(s) for s in sequence[:-1])) + [-1] + sequence[-1][1:]\n",
    "    return instance"
   ]
  },
  {
   "cell_type": "code",
   "execution_count": 289,
   "metadata": {},
   "outputs": [
    {
     "name": "stdout",
     "output_type": "stream",
     "text": [
      "5\n",
      "[[40478], [40481, 249, 1048, 6702], [40482, 498, 1385, 512, 640], [40481, 488, 249, 1074, 12361, 15354, 504, 481, 3361], [40482, 249, 2518, 512, 1074, 246, 5358, 500, 481, 3361, 40479]]\n"
     ]
    }
   ],
   "source": [
    "# debug cell\n",
    "history = [[249, 1048, 6702], [498, 1385, 512, 640], [488, 249, 1074, 12361, 15354, 504, 481, 3361]]\n",
    "reply =  [249, 2518, 512, 1074, 246, 5358, 500, 481, 3361]\n",
    "\n",
    "instance = build_input_from_segments(history, reply, tokenizer)\n",
    "instance_or = build_input_from_segments_or(persona, history, reply, tokenizer, lm_labels=True)\n",
    "\n",
    "print(tokenizer.convert_tokens_to_ids(SPECIAL_TOKENS[:-1]))\n",
    "instance_or[\"input_ids\"]\n",
    "instance_or[\"token_type_ids\"]\n",
    "instance[\"input_ids\"] \n",
    "instance[\"token_type_ids\"] \n",
    "instance = build_input_from_segments(persona, history, reply, tokenizer)\n",
    "\n",
    "### ασυμβίβαστα μεταξύ τους στο input_ids βγαίνει ότι το reply το είπε ο speaker1, ενώ στο token_type_ids ότι το είπε ο speaker2 (μάλλον για τον κώδικα του medium μόνο)\n",
    "\n",
    "lm_targets = ([-1] * sum(len(s) for s in sequence[:-1])) \\\n",
    "             + [-1] + tokenizer.convert_tokens_to_ids(sequence[-1][1:])\n",
    "\n",
    "lm_targets # στα labels tou language model έχουν τιμές μόνο τα tokens του reply.\n",
    "lm_distractor = [-1] * len(instance[\"input_ids\"])\n",
    "lm_distractor"
   ]
  },
  {
   "cell_type": "code",
   "execution_count": 371,
   "metadata": {
    "collapsed": true,
    "jupyter": {
     "outputs_hidden": true
    }
   },
   "outputs": [
    {
     "data": {
      "text/plain": [
       "[-1,\n",
       " -1,\n",
       " -1,\n",
       " -1,\n",
       " -1,\n",
       " -1,\n",
       " -1,\n",
       " -1,\n",
       " -1,\n",
       " -1,\n",
       " -1,\n",
       " -1,\n",
       " -1,\n",
       " -1,\n",
       " -1,\n",
       " -1,\n",
       " -1,\n",
       " -1,\n",
       " -1,\n",
       " -1,\n",
       " 249,\n",
       " 2518,\n",
       " 512,\n",
       " 1074,\n",
       " 246,\n",
       " 5358,\n",
       " 500,\n",
       " 481,\n",
       " 3361,\n",
       " 40479]"
      ]
     },
     "execution_count": 371,
     "metadata": {},
     "output_type": "execute_result"
    }
   ],
   "source": [
    "instance['lm_labels']"
   ]
  }
 ],
 "metadata": {
  "kernelspec": {
   "display_name": "Python 3",
   "language": "python",
   "name": "python3"
  },
  "language_info": {
   "codemirror_mode": {
    "name": "ipython",
    "version": 3
   },
   "file_extension": ".py",
   "mimetype": "text/x-python",
   "name": "python",
   "nbconvert_exporter": "python",
   "pygments_lexer": "ipython3",
   "version": "3.6.9"
  }
 },
 "nbformat": 4,
 "nbformat_minor": 4
}
