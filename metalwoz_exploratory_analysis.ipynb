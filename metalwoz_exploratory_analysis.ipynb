{
 "cells": [
  {
   "cell_type": "markdown",
   "metadata": {},
   "source": []
  },
  {
   "cell_type": "code",
   "execution_count": 155,
   "metadata": {},
   "outputs": [],
   "source": [
    "import os\n",
    "import pickle\n",
    "import numpy as np\n",
    "import glob\n",
    "import copy\n",
    "import statistics\n",
    "import torch\n",
    "import torchtext\n",
    "import torch.optim as optim\n",
    "import torch.nn.functional as F\n",
    "from transformers import OpenAIGPTModel, OpenAIGPTLMHeadModel, OpenAIGPTDoubleHeadsModel, OpenAIGPTTokenizer\n",
    "from itertools import chain\n",
    "from ast import literal_eval\n",
    "from itertools import zip_longest\n",
    "from sklearn.model_selection import train_test_split\n",
    "from torch.utils.data import Dataset, DataLoader "
   ]
  },
  {
   "cell_type": "code",
   "execution_count": 64,
   "metadata": {},
   "outputs": [],
   "source": [
    "%load_ext autoreload\n",
    "%autoreload 2"
   ]
  },
  {
   "cell_type": "markdown",
   "metadata": {},
   "source": [
    "### Data Preprocessing"
   ]
  },
  {
   "cell_type": "code",
   "execution_count": 23,
   "metadata": {},
   "outputs": [
    {
     "name": "stderr",
     "output_type": "stream",
     "text": [
      "ftfy or spacy is not installed using BERT BasicTokenizer instead of SpaCy & ftfy.\n"
     ]
    }
   ],
   "source": [
    "tokenizer = OpenAIGPTTokenizer.from_pretrained('openai-gpt')"
   ]
  },
  {
   "cell_type": "code",
   "execution_count": 24,
   "metadata": {},
   "outputs": [],
   "source": [
    "model = OpenAIGPTLMHeadModel.from_pretrained('openai-gpt')\n",
    "# print(model) # check the architecture of the model"
   ]
  },
  {
   "cell_type": "code",
   "execution_count": 4,
   "metadata": {},
   "outputs": [],
   "source": [
    "ATTR_TO_SPECIAL_TOKEN = {'bos_token': '<bos>', 'eos_token': '<eos>', 'pad_token': '<pad>',\n",
    "                         'additional_special_tokens': ('<speaker1>', '<speaker2>')}"
   ]
  },
  {
   "cell_type": "code",
   "execution_count": 5,
   "metadata": {},
   "outputs": [],
   "source": [
    "def add_special_tokens_(model, tokenizer):\n",
    "    \"\"\" Add special tokens to the tokenizer and the model if they have not already been added. \"\"\"\n",
    "    orig_num_tokens = len(tokenizer.encoder)\n",
    "    num_added_tokens = tokenizer.add_special_tokens(ATTR_TO_SPECIAL_TOKEN) # doesn't add if they are already there\n",
    "    if num_added_tokens > 0:\n",
    "        print(\"Tokens added to model: {}\".format(num_added_tokens))\n",
    "        model.resize_token_embeddings(new_num_tokens=orig_num_tokens + num_added_tokens) "
   ]
  },
  {
   "cell_type": "code",
   "execution_count": 295,
   "metadata": {},
   "outputs": [],
   "source": [
    "# We will use 5 special tokens:\n",
    "# - <bos> to indicate the start of the sequence\n",
    "# - <eos> to indicate the end of the sequence\n",
    "# - <speaker1> to indicate the beginning and the tokens of an utterance from the user\n",
    "# - <speaker2> to indicate the beginning and the tokens of an utterance from the bot\n",
    "# - <pad> as a padding token to build batches of sequences\n",
    "\n",
    "max_history = 2 # pairs of question/answer to be retained\n",
    "min_sentence_length = 1\n",
    "max_sentence_length = 20 # maximum length of a sentence produced by the model \n",
    "\n",
    "temperature = 0.75 # increases confidence in the most propable outputs \n",
    "\n",
    "SPECIAL_TOKENS = [\"<bos>\", \"<eos>\", \"<speaker1>\", \"<speaker2>\", \"<pad>\"]\n",
    "add_special_tokens_(model, tokenizer)       \n",
    "SPECIAL_TOKENS_IDS = tokenizer.convert_tokens_to_ids(SPECIAL_TOKENS)\n",
    "\n",
    "\n",
    "# bos, eos, speaker1, speaker2 = \"<bos>\", \"<eos>\", \"<speaker1>\", \"<speaker2>\"\n",
    "\n",
    "# MODEL_INPUTS = [\"input_ids\", \"mc_token_ids\", \"lm_labels\", \"mc_labels\", \"token_type_ids\"]\n",
    "# PADDED_INPUTS = [\"input_ids\", \"lm_labels\", \"token_type_ids\"]"
   ]
  },
  {
   "cell_type": "code",
   "execution_count": 26,
   "metadata": {},
   "outputs": [
    {
     "data": {
      "text/plain": [
       "[40478, 40479, 40481, 40482, 40480]"
      ]
     },
     "execution_count": 26,
     "metadata": {},
     "output_type": "execute_result"
    }
   ],
   "source": [
    "SPECIAL_TOKENS_IDS"
   ]
  },
  {
   "cell_type": "markdown",
   "metadata": {},
   "source": [
    "### Severe TODO \n",
    "H Parser είναι πιο χρονοβόρα από την extract pairs\n",
    "refactor το που γίνεται τι ώστε κάθε συνάρτηση να έχει ένα ρόλο \n",
    "το tokenization δεν κολλάει πολύ στην parser."
   ]
  },
  {
   "cell_type": "markdown",
   "metadata": {},
   "source": [
    "### TODO download with torchtext"
   ]
  },
  {
   "cell_type": "code",
   "execution_count": 84,
   "metadata": {},
   "outputs": [],
   "source": [
    "workspace = 'C:\\\\Users\\\\nikmand\\\\nikmand\\\\ncsr-chatbot\\\\'  # os.getcwd()\n",
    "\n",
    "# TODO new function for the tokenization process\n",
    "\n",
    "def parser(datafolder='metalwoz-v1\\\\dialoguesTest\\\\'): # rename to parser\n",
    "    \"\"\"\n",
    "    Function that reads files, keeps only 'turns' from each entry and tokenizes them\n",
    "\n",
    "    :param datafolder: path to the folder that contains the files\n",
    "    :return: a list that contains dialogs, each dialog is a list of lists where each of them represents the ids of a phrase \n",
    "    \"\"\"\n",
    "    dialogs = []\n",
    "    dialogs_len = []\n",
    "    files = list(glob.glob(workspace + datafolder + \"*.txt\"))\n",
    "    for file in files:\n",
    "        with open(file) as f:\n",
    "            for line in f.readlines():\n",
    "                dialog = literal_eval(line)['turns'][1:] # keep only turns without the first sentence\n",
    "                dialog = [tokenizer.convert_tokens_to_ids(tokenizer.tokenize(phrase)) for phrase in dialog] # to lowercase is performed by the tokenizer \n",
    "                dialog_len = sum(len(phrase) for phrase in dialog)\n",
    "                dialogs.append(dialog) \n",
    "                dialogs_len.append(dialog_len)\n",
    "    return dialogs, dialogs_len        "
   ]
  },
  {
   "cell_type": "code",
   "execution_count": 166,
   "metadata": {},
   "outputs": [],
   "source": [
    "dialogs, dialogs_len = parser()"
   ]
  },
  {
   "cell_type": "code",
   "execution_count": 86,
   "metadata": {},
   "outputs": [
    {
     "name": "stdout",
     "output_type": "stream",
     "text": [
      "3828\n",
      "269 17\n"
     ]
    }
   ],
   "source": [
    "print(len(dialogs))\n",
    "print(max(dialogs_len), min(dialogs_len))"
   ]
  },
  {
   "cell_type": "code",
   "execution_count": 164,
   "metadata": {},
   "outputs": [],
   "source": [
    "def filter_samples(samples, samples_len, percentile=90):\n",
    "    \n",
    "    samples_length = np.array(samples_len)\n",
    "    reasonable_length = np.percentile(samples_length, percentile)\n",
    "    print(reasonable_length)\n",
    "    \n",
    "    samples_red, samples_len_red = [], []\n",
    "    for sample, sample_len in zip(samples, samples_len):\n",
    "        if sample_len <= reasonable_length:\n",
    "            samples_red.append(sample)\n",
    "            samples_len_red.append(sample_len)\n",
    "    \n",
    "    return samples_red, samples_len_red  "
   ]
  },
  {
   "cell_type": "code",
   "execution_count": 169,
   "metadata": {},
   "outputs": [
    {
     "name": "stdout",
     "output_type": "stream",
     "text": [
      "141.0\n",
      "[61, 103, 73, 63, 100, 92, 131, 79, 99, 53, 96, 58, 46, 108, 63, 51, 106, 162, 36, 85, 74, 170, 90, 120, 37, 69, 25, 71, 127, 46]\n",
      "3828\n",
      "3446\n",
      "[61, 103, 73, 63, 100, 92, 131, 79, 99, 53, 96, 58, 46, 108, 63, 51, 106, 36, 85, 74, 90, 120, 37, 69, 25, 71, 127, 46, 51, 67]\n"
     ]
    }
   ],
   "source": [
    "dialogs_reduced, dialogs_len_reduced = filter_samples(dialogs, dialogs_len)\n",
    "print(dialogs_len[:30])\n",
    "print(len(dialogs)) \n",
    "print(len(dialogs_reduced)) \n",
    "print(dialogs_len_reduced[:30])"
   ]
  },
  {
   "cell_type": "code",
   "execution_count": 88,
   "metadata": {},
   "outputs": [],
   "source": [
    "def extract_pairs(dialogs = None, cache_file='cache_folder\\\\pairs.txt'):\n",
    "    \"\"\"\n",
    "    Function that creates pairs of input, output from dialogs, each dialogs corresponds now to many pairs.\n",
    "    \n",
    "    :param dialogs: a list with all the dialogs \n",
    "    :return a list whose elements are pairs of input, output  \n",
    "    \"\"\"\n",
    "    try: \n",
    "        with open(cache_file, \"rb\") as f:\n",
    "            print(\"Cache file found loading content.\")\n",
    "            pairs = pickle.load(f)\n",
    "            return pairs\n",
    "    except: # cache file not created yet\n",
    "        print(\"Cache file not found. Start processing.\")\n",
    "        pairs = [] \n",
    "        for dialog in dialogs:\n",
    "            t_dict = {'input': []}\n",
    "            if len(dialog) % 2 != 0: # discard the last phrase if it was said by the user\n",
    "                dialog = dialog[:-1]\n",
    "            dialog_it = iter(dialog)\n",
    "            for i_phrase, o_phrase in zip_longest(dialog_it, dialog_it): # process phrases two by two\n",
    "                try:\n",
    "                    t_dict[\"input\"].append(t_dict[\"output\"])\n",
    "                except:\n",
    "                    pass\n",
    "                t_dict[\"input\"].append(i_phrase) # history\n",
    "                t_dict[\"output\"] = o_phrase\n",
    "                pairs.append(t_dict)\n",
    "                t_dict = copy.deepcopy(t_dict) # so future changes address only the new dict\n",
    "        with open(cache_file, \"wb\") as f:\n",
    "            pickle.dump(pairs, f)\n",
    "        return pairs"
   ]
  },
  {
   "cell_type": "code",
   "execution_count": 148,
   "metadata": {},
   "outputs": [
    {
     "name": "stdout",
     "output_type": "stream",
     "text": [
      "Cache file found loading content.\n"
     ]
    }
   ],
   "source": [
    "pairs = extract_pairs(dialogs) #dialogs_reduced list of dictionaries of two keys"
   ]
  },
  {
   "cell_type": "code",
   "execution_count": 125,
   "metadata": {},
   "outputs": [],
   "source": [
    "def adjust_history(pairs, max_history=2): # seq len reduced from 263 to 181\n",
    "    pairs_len = []\n",
    "    for pair in pairs:\n",
    "        pair['input'] = pair['input'][-(2*max_history+1):] # at least one phrase is preserved\n",
    "        pair_len = sum(len(phrase) for phrase in pair['input']) + len(pair['output'])\n",
    "        pairs_len.append(pair_len)\n",
    "    return pairs, pairs_len   "
   ]
  },
  {
   "cell_type": "code",
   "execution_count": 149,
   "metadata": {},
   "outputs": [],
   "source": [
    "pairs, pairs_len = adjust_history(pairs, max_history=2) # 7 is practically all history"
   ]
  },
  {
   "cell_type": "code",
   "execution_count": 171,
   "metadata": {},
   "outputs": [
    {
     "name": "stdout",
     "output_type": "stream",
     "text": [
      "81.0\n"
     ]
    }
   ],
   "source": [
    "pairs_reduced, pairs_len_reduced = filter_samples(pairs, pairs_len) # reduces from 181 to 81 (history 2) or from 263 to 108\n",
    "# mean leangth with history 2 is  47 and max 181"
   ]
  },
  {
   "cell_type": "code",
   "execution_count": null,
   "metadata": {},
   "outputs": [],
   "source": [
    "def filter_pairs(pairs):\n",
    "   [] pair in pairs "
   ]
  },
  {
   "cell_type": "code",
   "execution_count": 156,
   "metadata": {},
   "outputs": [
    {
     "name": "stdout",
     "output_type": "stream",
     "text": [
      "19379\n",
      "17491\n",
      "{'input': [[488, 249, 1074, 12361, 15354, 504, 481, 3361], [249, 2518, 512, 1074, 246, 5358, 500, 481, 3361], [668, 5611, 239, 249, 1074, 688, 504, 2306], [525, 256, 252, 246, 1875, 4778], [912, 249, 1048, 246, 16219, 267]], 'output': [249, 2310, 256, 241, 2153, 485, 699, 512]}\n",
      "45\n",
      "181\n",
      "45\n"
     ]
    },
    {
     "data": {
      "text/plain": [
       "46.829093348469996"
      ]
     },
     "execution_count": 156,
     "metadata": {},
     "output_type": "execute_result"
    }
   ],
   "source": [
    "print(len(pairs))\n",
    "print(len(pairs_reduced))\n",
    "print(pairs[3])\n",
    "print(pairs_len[3])\n",
    "print(max(pairs_len))\n",
    "print(statistics.median(pairs_len))\n",
    "miiii = sum(pairs_len) / len(pairs_len)\n",
    "miiii"
   ]
  },
  {
   "cell_type": "markdown",
   "metadata": {},
   "source": [
    "### TODO να σώζεται σε αρχείο στην πιο κατάλληλη μορφή. Να δούμε αν βολεύει Pandas ή κάτι άλλο "
   ]
  },
  {
   "cell_type": "markdown",
   "metadata": {},
   "source": [
    "We instantiate a gpt pytorch model with pre-trained weights on language modelling task."
   ]
  },
  {
   "cell_type": "markdown",
   "metadata": {},
   "source": [
    "### Tokenizer\n",
    "\n",
    "A helper class used to interact with the vocabulary in which our model has been pre-trained."
   ]
  },
  {
   "cell_type": "code",
   "execution_count": 49,
   "metadata": {},
   "outputs": [
    {
     "name": "stdout",
     "output_type": "stream",
     "text": [
      "Our language model have been pre-trained with a vocabulary of 40478 words.\n"
     ]
    }
   ],
   "source": [
    "print(\"Our language model have been pre-trained with a vocabulary of {} words.\".format(tokenizer.vocab_size))"
   ]
  },
  {
   "cell_type": "markdown",
   "metadata": {},
   "source": [
    "Εμείς έχουμε πάντα περιττού πλήθους history που αρχίζει και τελειώνει με speaker1 και reply που το λέει ο speaker2\n",
    "\n",
    "Για το input_ids: Η λογική είναι αναθέτει τον speaker2 κάθε φορά που μένει άρτιο πλήθος από διαλόγους(περιττό συνολικά μαζί με sos, βλέπε συνθήκη). Εμάς όλες μας οι λίστες έχουν άρτιο πλήθος οπότε θα ξεκινήσει με speaker2 ενώ θέλουμε speaker1. Τα επιμέρους αποτελεσματα όμως είναι συμβατά μεταξύ τους.\n",
    "\n",
    "Στο input_ids το i στο iter παίρνει τιμή i = seq_len - 2 (αφού ξεκινήσαμε από το δεύτερο στοιχείο το iteration)\n",
    "\n",
    "Για το token_type_ids: για κάθε μία λίστα κάνουμε iterate στα στοιχεία της, αν η θέση της λίστας είναι άρτια παίρνει speaker1 αλλιώς speaker2\n",
    "Στο token_type_ids: επειδή το πλήθος είναι περιττό με την προσθήκη του sos θα αλλάξει η σειρά και η πρώτη πρόταση θα πάει speaker2 και το reply speaker1\n",
    "\n",
    "Καταρχάς η αντιστοιχία που δίνουν οι ίδιοι στο δικό τους δεν ταιριάζει με αυτό που είχαμε σκεφτεί \n",
    "Κατά δεύτερο πρέπει να δούμε που θα μπει αν θα μπει το sos, αυτό μας δημιουργεί πρόβλημα αυτή τη στιγμή. Θα μπει μετά το tag του speaker ? \n",
    "\n",
    "είτε θα μπει μόνο του πριν τον speaker\n",
    "σε αυτή την περίπτωση θα πρέπει να παίρνει το tag του speaker1 στα tokens αυτό δε συμβαίνει τώρα και μας μπερδεύει τη σειρά \n",
    "\n",
    "για το label βάζει σε όλα τα inputs εκτός του reply -1, στο speaker2 του reply -1 και βάζει τα tokens του reply."
   ]
  },
  {
   "cell_type": "markdown",
   "metadata": {},
   "source": [
    "Τι ακριβώς θα δούμε με το validation."
   ]
  },
  {
   "cell_type": "code",
   "execution_count": 80,
   "metadata": {},
   "outputs": [],
   "source": [
    "pairs_array = np.array(pairs_reduced)"
   ]
  },
  {
   "cell_type": "code",
   "execution_count": 350,
   "metadata": {},
   "outputs": [
    {
     "name": "stdout",
     "output_type": "stream",
     "text": [
      "13996 3500\n"
     ]
    }
   ],
   "source": [
    "pairs_train_l = pairs[:int(len(pairs)*0.8)]\n",
    "pairs_eval_l = pairs[int(len(pairs)*0.8):]\n",
    "print(len(pairs_train_l), len(pairs_eval_l))"
   ]
  },
  {
   "cell_type": "markdown",
   "metadata": {},
   "source": [
    "### Για διαχωρισμό σε train test\n",
    "υπάρχει κάτι που να δημιουργεί πρόβλημα;\n",
    "μπορεί να μας ενοχλεί ότι ζεύγη που έρχονται από διαφορετικούς διαλόγους θα χωριστούν; μας ενοχλεί αν δεν μπαίνουν με τη σειρά;\n",
    "αν δεν κάνουμε τυχαίο split κάποια domains δε θα εμφανίζονται στο train set"
   ]
  },
  {
   "cell_type": "code",
   "execution_count": 175,
   "metadata": {},
   "outputs": [],
   "source": [
    "pairs_train, pairs_eval, pairs_train_len, pairs_eval_len = train_test_split(pairs_reduced, pairs_len_reduced, test_size=0.2, shuffle=True)      "
   ]
  },
  {
   "cell_type": "code",
   "execution_count": 61,
   "metadata": {},
   "outputs": [
    {
     "name": "stdout",
     "output_type": "stream",
     "text": [
      "(12547,) (3137,)\n",
      "{'input': [[13659, 2679], [1304, 239, 718, 1272, 12286, 587, 512, 966, 507, 485, 580, 257], [277], [566, 2499, 13659, 239, 587, 512, 604, 246, 5052, 5855, 257], [13103, 3597, 246, 3592]], 'output': [1304, 886, 507, 239, 544, 655, 246, 7537, 1807, 512, 640, 1081, 491, 257]}\n",
      "wwwwwww\n",
      "[[249, 966, 485, 5838, 531, 4895]]\n"
     ]
    }
   ],
   "source": [
    "print(pairs_train.shape, pairs_eval.shape)\n",
    "print(pairs_train[0])\n",
    "print(\"wwwwwww\")\n",
    "print(pairs_eval[0]['input'])"
   ]
  },
  {
   "cell_type": "code",
   "execution_count": 59,
   "metadata": {},
   "outputs": [
    {
     "name": "stdout",
     "output_type": "stream",
     "text": [
      "(12547,) (3137,)\n",
      "{'input': [[249, 966, 485, 34427, 531, 4895], [881], [1462, 547, 6307, 4895, 1572], [1304, 1256, 239], [1462, 481, 43, 10458, 6307, 4895, 485, 44, 10458, 504, 5513]], 'output': [1304, 239, 636, 512, 1362, 507, 257]}\n",
      "wwwwwww\n",
      "[[759, 512, 5838, 547, 292, 1048, 4895, 504, 5498, 488, 11072, 507, 485, 1099, 2433, 850, 257], [773, 512, 823, 704, 54, 1048, 4895, 617, 5498, 822, 5375, 257], [685, 240, 525, 256, 252, 770, 239], [773, 240, 4895, 544, 1233, 239, 544, 655, 1033, 1284, 249, 759, 587, 562, 512, 257], [2548, 239, 1359, 635, 512, 1233, 481, 8358, 485, 11477, 297, 562, 525, 257]]\n"
     ]
    }
   ],
   "source": [
    "print(pairs_train.shape, pairs_eval.shape)\n",
    "print(pairs_train[0])\n",
    "print(\"wwwwwww\")\n",
    "print(pairs_eval[0]['input'])"
   ]
  },
  {
   "cell_type": "markdown",
   "metadata": {},
   "source": [
    "Θέλω στο μοντέλο μου να δίνω τρία inputs όπως το παράγει η συνάρτηση build, συνεπώς αυτό θέλω να μου γυρίζει η συνάρτηση get item "
   ]
  },
  {
   "cell_type": "markdown",
   "metadata": {},
   "source": [
    "### TODO check if we can use torchtext"
   ]
  },
  {
   "cell_type": "code",
   "execution_count": 236,
   "metadata": {},
   "outputs": [],
   "source": [
    "class DialogDataset(Dataset):\n",
    "\n",
    "    def __init__(self, dialog_pairs):\n",
    "        self.dataset = self.create_segments(dialog_pairs)\n",
    "        self.dataset = self.order_on_seq_length()\n",
    "        # self.dataset = self.pad_sequenses(self.dataset, tokenizer.convert_tokens_to_ids(SPECIAL_TOKENS[-1]))\n",
    "\n",
    "    def __len__(self):\n",
    "        return len(self.dataset)\n",
    "    \n",
    "    def create_segments(self, dialog_pairs):\n",
    "        dataset = []\n",
    "        for pair in dialog_pairs:\n",
    "            instance = build_input_from_segments(pair['input'], pair['output'], tokenizer)\n",
    "            dataset.append(instance)\n",
    "        return dataset\n",
    "    \n",
    "    def order_on_seq_length(self):\n",
    "        return sorted(self.dataset, key=lambda x: len(x['input_ids']))\n",
    "    \n",
    "    def pad_sequenses(self, dataset, padding=0):\n",
    "        # TODO create mask for each entry\n",
    "        max_seq_len = max(len(entry[\"input_ids\"]) for entry in dataset)\n",
    "        print(max_seq_len)\n",
    "        for entry in dataset:\n",
    "            for index_name in entry.keys():\n",
    "                entry[index_name] =  entry[index_name] + [padding if index_name != \"lm_labels\" else -1] * (max_seq_len - len(entry[index_name]))\n",
    "        return dataset    \n",
    "\n",
    "    def __getitem__(self, index):\n",
    "        sample = self.dataset[index]\n",
    "        return sample\n",
    "        # return (np.array(sample['input_ids']), np.array(sample['token_type_ids']), np.array(sample[\"lm_labels\"]))"
   ]
  },
  {
   "cell_type": "code",
   "execution_count": 302,
   "metadata": {},
   "outputs": [],
   "source": [
    "def pad_sequenses(batch, pad_token=0):\n",
    "    # TODO create mask for each entry\n",
    "    max_seq_len = max(len(entry[\"input_ids\"]) for entry in batch)\n",
    "    print(max_seq_len)\n",
    "    for entry in batch:\n",
    "        for index_name in entry.keys():\n",
    "            if index_name == \"lm_labels\":\n",
    "                pad_token_ = -1\n",
    "            elif index_name == \"mask\":\n",
    "                pad_token_ = 0\n",
    "            else:\n",
    "                pad_token_ = pad_token\n",
    "            entry[index_name] =  entry[index_name] + [pad_token_] * (max_seq_len - len(entry[index_name]))\n",
    "        # print(entry)    \n",
    "    return batch  "
   ]
  },
  {
   "cell_type": "code",
   "execution_count": 290,
   "metadata": {},
   "outputs": [],
   "source": [
    "def custom_collate_fn(batch):\n",
    "    batch = pad_sequenses(batch, tokenizer.convert_tokens_to_ids(SPECIAL_TOKENS[-1]))\n",
    "    \n",
    "    inputs = [torch.stack(list(map(lambda x: torch.from_numpy(np.array(x[index_name])), batch)), dim=0) for index_name in batch[0].keys()]\n",
    "    return inputs   "
   ]
  },
  {
   "cell_type": "code",
   "execution_count": 244,
   "metadata": {},
   "outputs": [],
   "source": [
    "def build_input_from_segments(history, reply, tokenizer, with_eos=True):\n",
    "    \"\"\" \n",
    "    \"\"\"\n",
    "    \n",
    "    bos, eos, speaker1, speaker2 = tokenizer.convert_tokens_to_ids(SPECIAL_TOKENS[:-1])\n",
    "    sequence = [[bos]] + history + [reply + ([eos] if with_eos else [])]\n",
    "    seq_len = len(sequence) # sequence λίστα από λίστες\n",
    "    sequence = [sequence[0]] + [[speaker2 if (seq_len-i) % 2 != 1 else speaker1] + s for i, s in enumerate(sequence[1:])]\n",
    "    \n",
    "    instance = {}\n",
    "    instance[\"input_ids\"] = list(chain(*sequence)) # words\n",
    "    instance[\"token_type_ids\"] = [speaker1] + [speaker2 if i % 2 else speaker1 for i, s in enumerate(sequence[1:]) for _ in s] # for each word\n",
    "    instance[\"mask\"] = [1] * len(instance[\"input_ids\"]) \n",
    "    # TODO positional embeddings\n",
    "    instance[\"lm_labels\"] = ([-1] * sum(len(s) for s in sequence[:-1])) + [-1] + sequence[-1][1:]\n",
    "    \n",
    "    return instance"
   ]
  },
  {
   "cell_type": "code",
   "execution_count": 305,
   "metadata": {},
   "outputs": [],
   "source": [
    "training_set = DialogDataset(pairs_train) \n",
    "validation_set = DialogDataset(pairs_eval)"
   ]
  },
  {
   "cell_type": "code",
   "execution_count": 306,
   "metadata": {},
   "outputs": [],
   "source": [
    "BATCH_SIZE = 32 \n",
    "\"\"\"\n",
    "TODO: pad on batch level \n",
    "\n",
    "in order to avoid padding to the global max_len we can define our own collate_fn\n",
    "which forms the samples into batches and call inside there the pad function.\n",
    "Samples should be allocated to batches based on their sequence length in order to\n",
    "minimize the need for padding.\n",
    "\"\"\" \n",
    "\n",
    "dataloader_train = DataLoader(training_set, batch_size=BATCH_SIZE, shuffle=False, collate_fn=custom_collate_fn, num_workers=0) # has shuffle any sideffects here?\n",
    "dataloader_valid = DataLoader(validation_set, batch_size=BATCH_SIZE, shuffle=True, num_workers=0)"
   ]
  },
  {
   "cell_type": "code",
   "execution_count": 307,
   "metadata": {},
   "outputs": [
    {
     "name": "stdout",
     "output_type": "stream",
     "text": [
      "8\n",
      "<class 'torch.Tensor'>\n",
      "torch.Size([32, 8])\n",
      "tensor([[40478, 40481,  3569, 40482,  2229, 40479, 40480, 40480],\n",
      "        [40478, 40481,  3569, 40482,  3570, 40479, 40480, 40480],\n",
      "        [40478, 40481,  3570, 40482,  2229, 40479, 40480, 40480],\n",
      "        [40478, 40481,  3569, 40482,  3569, 40479, 40480, 40480],\n",
      "        [40478, 40481,  3569, 40482,  3570, 40479, 40480, 40480],\n",
      "        [40478, 40481,  2229, 40482,   685, 40479, 40480, 40480],\n",
      "        [40478, 40481,  3569, 40482,  3569, 40479, 40480, 40480],\n",
      "        [40478, 40481,  3569, 40482,  3570, 40479, 40480, 40480],\n",
      "        [40478, 40481,  3569, 40482,  3570, 40479, 40480, 40480],\n",
      "        [40478, 40481,  3569,   267, 40482,  3570, 40479, 40480],\n",
      "        [40478, 40481,  3569,   267, 40482,  3570, 40479, 40480],\n",
      "        [40478, 40481,  2229,   655, 40482,  3570, 40479, 40480],\n",
      "        [40478, 40481,  3569,   655, 40482,  3570, 40479, 40480],\n",
      "        [40478, 40481,  3569,   267, 40482,  3570, 40479, 40480],\n",
      "        [40478, 40481,  3569, 40482,  3570,   655, 40479, 40480],\n",
      "        [40478, 40481,  3569,   267, 40482,  3569, 40479, 40480],\n",
      "        [40478, 40481,  3569, 40482,  2229,   655, 40479, 40480],\n",
      "        [40478, 40481,  1150,   510, 40482,   881, 40479, 40480],\n",
      "        [40478, 40481,  4895, 20721, 40482,   773, 40479, 40480],\n",
      "        [40478, 40481,  3569,   267, 40482,  3570, 40479, 40480],\n",
      "        [40478, 40481,  3569, 40482,   685,   257, 40479, 40480],\n",
      "        [40478, 40481,  3570, 40482,  3569,   239, 40479, 40480],\n",
      "        [40478, 40481,  3569,   267, 40482,  3570, 40479, 40480],\n",
      "        [40478, 40481,  3570,   655, 40482,  3570, 40479, 40480],\n",
      "        [40478, 40481,  1233, 17177, 40482,   599,   720, 40479],\n",
      "        [40478, 40481,  3569,   267, 40482,  3570,   239, 40479],\n",
      "        [40478, 40481,   249,   966,  1150, 40482,   881, 40479],\n",
      "        [40478, 40481,  3569,  9330,   267, 40482,  3570, 40479],\n",
      "        [40478, 40481,  1796, 25303, 40482,   984, 25303, 40479],\n",
      "        [40478, 40481,  3569,   267, 40482,  3570,   267, 40479],\n",
      "        [40478, 40481,   685,   239, 40482,   685,  3491, 40479],\n",
      "        [40478, 40481,   685,  1572, 40482,   249,  3798, 40479]],\n",
      "       dtype=torch.int32)\n",
      "torch.Size([32, 8])\n",
      "torch.Size([32, 8])\n",
      "torch.Size([32, 8])\n"
     ]
    }
   ],
   "source": [
    "for i_batch, (input_ids, mask, category_ids, label_ids) in enumerate(dataloader_train):\n",
    "    i+=1\n",
    "    print(type(input_ids))\n",
    "    print(input_ids.shape)\n",
    "    print(input_ids)\n",
    "    print(mask.shape)\n",
    "    print(category_ids.shape)\n",
    "    print(label_ids.shape)\n",
    "    break"
   ]
  },
  {
   "cell_type": "code",
   "execution_count": 254,
   "metadata": {},
   "outputs": [
    {
     "name": "stdout",
     "output_type": "stream",
     "text": [
      "8\n",
      "{'input_ids': [40478, 40481, 3569, 40482, 2229, 40479, 40480, 40480], 'token_type_ids': [40481, 40481, 40481, 40482, 40482, 40482, 40480, 40480], 'mask': [1, 1, 1, 1, 1, 1, 0, 0], 'lm_labels': [-1, -1, -1, -1, 2229, 40479, -1, -1]}\n",
      "{'input_ids': [40478, 40481, 3569, 40482, 3570, 40479, -1, -1], 'token_type_ids': [40481, 40481, 40481, 40482, 40482, 40482, -1, -1], 'mask': [1, 1, 1, 1, 1, 1, 0, 0], 'lm_labels': [-1, -1, -1, -1, 3570, 40479, -1, -1]}\n",
      "{'input_ids': [40478, 40481, 3570, 40482, 2229, 40479, -1, -1], 'token_type_ids': [40481, 40481, 40481, 40482, 40482, 40482, -1, -1], 'mask': [1, 1, 1, 1, 1, 1, 0, 0], 'lm_labels': [-1, -1, -1, -1, 2229, 40479, -1, -1]}\n",
      "{'input_ids': [40478, 40481, 3569, 40482, 3569, 40479, -1, -1], 'token_type_ids': [40481, 40481, 40481, 40482, 40482, 40482, -1, -1], 'mask': [1, 1, 1, 1, 1, 1, 0, 0], 'lm_labels': [-1, -1, -1, -1, 3569, 40479, -1, -1]}\n",
      "{'input_ids': [40478, 40481, 3569, 40482, 3570, 40479, -1, -1], 'token_type_ids': [40481, 40481, 40481, 40482, 40482, 40482, -1, -1], 'mask': [1, 1, 1, 1, 1, 1, 0, 0], 'lm_labels': [-1, -1, -1, -1, 3570, 40479, -1, -1]}\n",
      "{'input_ids': [40478, 40481, 2229, 40482, 685, 40479, -1, -1], 'token_type_ids': [40481, 40481, 40481, 40482, 40482, 40482, -1, -1], 'mask': [1, 1, 1, 1, 1, 1, 0, 0], 'lm_labels': [-1, -1, -1, -1, 685, 40479, -1, -1]}\n",
      "{'input_ids': [40478, 40481, 3569, 40482, 3569, 40479, -1, -1], 'token_type_ids': [40481, 40481, 40481, 40482, 40482, 40482, -1, -1], 'mask': [1, 1, 1, 1, 1, 1, 0, 0], 'lm_labels': [-1, -1, -1, -1, 3569, 40479, -1, -1]}\n",
      "{'input_ids': [40478, 40481, 3569, 40482, 3570, 40479, -1, -1], 'token_type_ids': [40481, 40481, 40481, 40482, 40482, 40482, -1, -1], 'mask': [1, 1, 1, 1, 1, 1, 0, 0], 'lm_labels': [-1, -1, -1, -1, 3570, 40479, -1, -1]}\n",
      "{'input_ids': [40478, 40481, 3569, 40482, 3570, 40479, -1, -1], 'token_type_ids': [40481, 40481, 40481, 40482, 40482, 40482, -1, -1], 'mask': [1, 1, 1, 1, 1, 1, 0, 0], 'lm_labels': [-1, -1, -1, -1, 3570, 40479, -1, -1]}\n",
      "{'input_ids': [40478, 40481, 3569, 267, 40482, 3570, 40479, -1], 'token_type_ids': [40481, 40481, 40481, 40481, 40482, 40482, 40482, -1], 'mask': [1, 1, 1, 1, 1, 1, 1, 0], 'lm_labels': [-1, -1, -1, -1, -1, 3570, 40479, -1]}\n",
      "{'input_ids': [40478, 40481, 3569, 267, 40482, 3570, 40479, -1], 'token_type_ids': [40481, 40481, 40481, 40481, 40482, 40482, 40482, -1], 'mask': [1, 1, 1, 1, 1, 1, 1, 0], 'lm_labels': [-1, -1, -1, -1, -1, 3570, 40479, -1]}\n",
      "{'input_ids': [40478, 40481, 2229, 655, 40482, 3570, 40479, -1], 'token_type_ids': [40481, 40481, 40481, 40481, 40482, 40482, 40482, -1], 'mask': [1, 1, 1, 1, 1, 1, 1, 0], 'lm_labels': [-1, -1, -1, -1, -1, 3570, 40479, -1]}\n",
      "{'input_ids': [40478, 40481, 3569, 655, 40482, 3570, 40479, -1], 'token_type_ids': [40481, 40481, 40481, 40481, 40482, 40482, 40482, -1], 'mask': [1, 1, 1, 1, 1, 1, 1, 0], 'lm_labels': [-1, -1, -1, -1, -1, 3570, 40479, -1]}\n",
      "{'input_ids': [40478, 40481, 3569, 267, 40482, 3570, 40479, -1], 'token_type_ids': [40481, 40481, 40481, 40481, 40482, 40482, 40482, -1], 'mask': [1, 1, 1, 1, 1, 1, 1, 0], 'lm_labels': [-1, -1, -1, -1, -1, 3570, 40479, -1]}\n",
      "{'input_ids': [40478, 40481, 3569, 40482, 3570, 655, 40479, -1], 'token_type_ids': [40481, 40481, 40481, 40482, 40482, 40482, 40482, -1], 'mask': [1, 1, 1, 1, 1, 1, 1, 0], 'lm_labels': [-1, -1, -1, -1, 3570, 655, 40479, -1]}\n",
      "{'input_ids': [40478, 40481, 3569, 267, 40482, 3569, 40479, -1], 'token_type_ids': [40481, 40481, 40481, 40481, 40482, 40482, 40482, -1], 'mask': [1, 1, 1, 1, 1, 1, 1, 0], 'lm_labels': [-1, -1, -1, -1, -1, 3569, 40479, -1]}\n",
      "{'input_ids': [40478, 40481, 3569, 40482, 2229, 655, 40479, -1], 'token_type_ids': [40481, 40481, 40481, 40482, 40482, 40482, 40482, -1], 'mask': [1, 1, 1, 1, 1, 1, 1, 0], 'lm_labels': [-1, -1, -1, -1, 2229, 655, 40479, -1]}\n",
      "{'input_ids': [40478, 40481, 1150, 510, 40482, 881, 40479, -1], 'token_type_ids': [40481, 40481, 40481, 40481, 40482, 40482, 40482, -1], 'mask': [1, 1, 1, 1, 1, 1, 1, 0], 'lm_labels': [-1, -1, -1, -1, -1, 881, 40479, -1]}\n",
      "{'input_ids': [40478, 40481, 4895, 20721, 40482, 773, 40479, -1], 'token_type_ids': [40481, 40481, 40481, 40481, 40482, 40482, 40482, -1], 'mask': [1, 1, 1, 1, 1, 1, 1, 0], 'lm_labels': [-1, -1, -1, -1, -1, 773, 40479, -1]}\n",
      "{'input_ids': [40478, 40481, 3569, 267, 40482, 3570, 40479, -1], 'token_type_ids': [40481, 40481, 40481, 40481, 40482, 40482, 40482, -1], 'mask': [1, 1, 1, 1, 1, 1, 1, 0], 'lm_labels': [-1, -1, -1, -1, -1, 3570, 40479, -1]}\n",
      "{'input_ids': [40478, 40481, 3569, 40482, 685, 257, 40479, -1], 'token_type_ids': [40481, 40481, 40481, 40482, 40482, 40482, 40482, -1], 'mask': [1, 1, 1, 1, 1, 1, 1, 0], 'lm_labels': [-1, -1, -1, -1, 685, 257, 40479, -1]}\n",
      "{'input_ids': [40478, 40481, 3570, 40482, 3569, 239, 40479, -1], 'token_type_ids': [40481, 40481, 40481, 40482, 40482, 40482, 40482, -1], 'mask': [1, 1, 1, 1, 1, 1, 1, 0], 'lm_labels': [-1, -1, -1, -1, 3569, 239, 40479, -1]}\n",
      "{'input_ids': [40478, 40481, 3569, 267, 40482, 3570, 40479, -1], 'token_type_ids': [40481, 40481, 40481, 40481, 40482, 40482, 40482, -1], 'mask': [1, 1, 1, 1, 1, 1, 1, 0], 'lm_labels': [-1, -1, -1, -1, -1, 3570, 40479, -1]}\n",
      "{'input_ids': [40478, 40481, 3570, 655, 40482, 3570, 40479, -1], 'token_type_ids': [40481, 40481, 40481, 40481, 40482, 40482, 40482, -1], 'mask': [1, 1, 1, 1, 1, 1, 1, 0], 'lm_labels': [-1, -1, -1, -1, -1, 3570, 40479, -1]}\n",
      "{'input_ids': [40478, 40481, 1233, 17177, 40482, 599, 720, 40479], 'token_type_ids': [40481, 40481, 40481, 40481, 40482, 40482, 40482, 40482], 'mask': [1, 1, 1, 1, 1, 1, 1, 1], 'lm_labels': [-1, -1, -1, -1, -1, 599, 720, 40479]}\n",
      "{'input_ids': [40478, 40481, 3569, 267, 40482, 3570, 239, 40479], 'token_type_ids': [40481, 40481, 40481, 40481, 40482, 40482, 40482, 40482], 'mask': [1, 1, 1, 1, 1, 1, 1, 1], 'lm_labels': [-1, -1, -1, -1, -1, 3570, 239, 40479]}\n",
      "{'input_ids': [40478, 40481, 249, 966, 1150, 40482, 881, 40479], 'token_type_ids': [40481, 40481, 40481, 40481, 40481, 40482, 40482, 40482], 'mask': [1, 1, 1, 1, 1, 1, 1, 1], 'lm_labels': [-1, -1, -1, -1, -1, -1, 881, 40479]}\n",
      "{'input_ids': [40478, 40481, 3569, 9330, 267, 40482, 3570, 40479], 'token_type_ids': [40481, 40481, 40481, 40481, 40481, 40482, 40482, 40482], 'mask': [1, 1, 1, 1, 1, 1, 1, 1], 'lm_labels': [-1, -1, -1, -1, -1, -1, 3570, 40479]}\n",
      "{'input_ids': [40478, 40481, 1796, 25303, 40482, 984, 25303, 40479], 'token_type_ids': [40481, 40481, 40481, 40481, 40482, 40482, 40482, 40482], 'mask': [1, 1, 1, 1, 1, 1, 1, 1], 'lm_labels': [-1, -1, -1, -1, -1, 984, 25303, 40479]}\n",
      "{'input_ids': [40478, 40481, 3569, 267, 40482, 3570, 267, 40479], 'token_type_ids': [40481, 40481, 40481, 40481, 40482, 40482, 40482, 40482], 'mask': [1, 1, 1, 1, 1, 1, 1, 1], 'lm_labels': [-1, -1, -1, -1, -1, 3570, 267, 40479]}\n",
      "{'input_ids': [40478, 40481, 685, 239, 40482, 685, 3491, 40479], 'token_type_ids': [40481, 40481, 40481, 40481, 40482, 40482, 40482, 40482], 'mask': [1, 1, 1, 1, 1, 1, 1, 1], 'lm_labels': [-1, -1, -1, -1, -1, 685, 3491, 40479]}\n",
      "{'input_ids': [40478, 40481, 685, 1572, 40482, 249, 3798, 40479], 'token_type_ids': [40481, 40481, 40481, 40481, 40482, 40482, 40482, 40482], 'mask': [1, 1, 1, 1, 1, 1, 1, 1], 'lm_labels': [-1, -1, -1, -1, -1, 249, 3798, 40479]}\n",
      "1\n"
     ]
    }
   ],
   "source": [
    "i = 0\n",
    "\n",
    "print(i)"
   ]
  },
  {
   "cell_type": "markdown",
   "metadata": {},
   "source": [
    "### Training procedure"
   ]
  },
  {
   "cell_type": "code",
   "execution_count": null,
   "metadata": {},
   "outputs": [
    {
     "name": "stdout",
     "output_type": "stream",
     "text": [
      "8\n",
      "10\n",
      "11\n",
      "11\n",
      "11\n",
      "12\n",
      "12\n",
      "12\n",
      "13\n",
      "13\n",
      "13\n",
      "14\n",
      "14\n",
      "14\n",
      "14\n",
      "14\n",
      "15\n",
      "15\n",
      "15\n",
      "15\n",
      "15\n",
      "15\n",
      "16\n",
      "16\n",
      "16\n",
      "16\n",
      "16\n",
      "17\n",
      "17\n",
      "17\n",
      "17\n",
      "17\n",
      "17\n",
      "17\n",
      "18\n",
      "18\n",
      "18\n",
      "18\n",
      "18\n",
      "18\n",
      "18\n",
      "19\n",
      "19\n",
      "19\n",
      "19\n",
      "19\n",
      "19\n",
      "19\n",
      "20\n",
      "20\n",
      "20\n",
      "20\n",
      "20\n",
      "20\n",
      "20\n",
      "20\n",
      "21\n",
      "21\n",
      "21\n",
      "21\n",
      "21\n",
      "21\n",
      "21\n",
      "22\n",
      "22\n",
      "22\n",
      "22\n",
      "22\n",
      "22\n",
      "23\n",
      "23\n",
      "23\n",
      "23\n",
      "23\n",
      "24\n",
      "24\n",
      "24\n",
      "24\n",
      "24\n",
      "24\n",
      "25\n"
     ]
    }
   ],
   "source": [
    "epochs = 1\n",
    "min_loss, max_patience, cur_patience = np.inf, 10, 0\n",
    "save_file = \"chatbot.pkl\"\n",
    "use_cuda = False\n",
    "\n",
    "# loss_function = nn. check it την διαλέγει μόνο του?\n",
    "# αν δοθεί το labels αρχικοποιεί και χρησιμοποιεί εσωτερικά το crossEntropyLoss\n",
    "# να πούμε αναλυτικά τι κάνει σε πρώτη φάση, αν δε το γράψουμε χεράτα.\n",
    "optimizer = optim.Adam(model.parameters(), lr=1e-3, weight_decay=0.001) # TODO review those values\n",
    "for epoch in range(epochs):\n",
    "    # aux staff here\n",
    "    model.train()\n",
    "    for i_batch, (input_ids, attention_mask, category_ids, label_ids) in enumerate(dataloader_train):\n",
    "#         print(type(input_ids))\n",
    "#         print(input_ids.shape)\n",
    "#         print(category_ids.shape)\n",
    "#         print(label_ids.shape)\n",
    "        \n",
    "        outputs = model(input_ids.type(torch.LongTensor), attention_mask, category_ids.type(torch.LongTensor), labels=label_ids.type(torch.LongTensor))\n",
    "        # print(type(outputs))\n",
    "        loss, logits = outputs[:2]\n",
    "        optimizer.zero_grad() # model.zero_grad() and optimizer.zero_grad() are the same IF all your model parameters are in that optimizer.\n",
    "        loss.backward()\n",
    "        optimizer.step()\n",
    "\n",
    "        # break        "
   ]
  },
  {
   "cell_type": "markdown",
   "metadata": {},
   "source": [
    "### TODO SAVE MODEL and tokenizer"
   ]
  },
  {
   "cell_type": "markdown",
   "metadata": {},
   "source": [
    "## Interaction with the bot - Inference"
   ]
  },
  {
   "cell_type": "markdown",
   "metadata": {},
   "source": [
    "### TODO load model and tokenizer"
   ]
  },
  {
   "cell_type": "code",
   "execution_count": 27,
   "metadata": {},
   "outputs": [],
   "source": [
    "def format_input(history, reply_so_far):\n",
    "    \"\"\"\n",
    "    \"\"\"\n",
    "    # print(\"History is: {}\".format(history))\n",
    "    # print(\"Reply so far is: {}\".format(reply_so_far))\n",
    "    history = [tokenizer.encode(phrase) for phrase in history]\n",
    "    \n",
    "    instance = build_input_from_segments(history, reply_so_far, tokenizer, with_eos=False)\n",
    "    \n",
    "    input_ids = torch.tensor(instance[\"input_ids\"]).unsqueeze(0)\n",
    "    token_type_ids = torch.tensor(instance[\"token_type_ids\"]).unsqueeze(0)\n",
    "    \n",
    "    return input_ids, token_type_ids"
   ]
  },
  {
   "cell_type": "code",
   "execution_count": 68,
   "metadata": {},
   "outputs": [],
   "source": [
    "def decoding(probs, logits, method=\"top_p\"):\n",
    "    \"\"\"\n",
    "    Functions that selects the next token to be emmited. Three different approaches are implemented: \n",
    "    \n",
    "    Greedy: the most probable token is selected.\n",
    "    Top-k : \n",
    "    Top-p : \n",
    "    \n",
    "    :param logits: \n",
    "    :param method: the decoding method to be used, Values={'greedy', 'top_k', 'top_p'}\n",
    "    :return: the selected token\n",
    "    \"\"\"\n",
    "    top_k = 40 # sample from the 100 most probable tokens based on their probs\n",
    "    top_p = 0.9 # sample from the n most probable tokens that have a cumulative probability at least 0.9 \n",
    "    \n",
    "    if method == \"greedy\":\n",
    "        return torch.argmax(probs).item()\n",
    "    \n",
    "    elif method == \"top_k\":        \n",
    "        prob_k = probs.topk(top_k)[0][-1].item() # value of the 100th most probable\n",
    "#         print(probs.topk(top_k)[0])\n",
    "#         print((probs < prob_k).nonzero().shape)\n",
    "        probs[probs < prob_k] = 0   # cut off the tail  \n",
    "        \n",
    "    elif method == \"top_p\":\n",
    "        probs_sorted, probs_indexes = probs.sort(dim=-1, descending=True) # start the cumulation from the most probable token in descending order\n",
    "        cum_probs = probs_sorted.cumsum(dim=-1)\n",
    "        \n",
    "        indices = cum_probs > top_p \n",
    "#         print(indices)\n",
    "#         print(indices.nonzero().shape)\n",
    "#         print(indices.nonzero())\n",
    "#         print(probs_sorted[:10])\n",
    "        indices[1:] = indices[:-1].clone()\n",
    "        indices[0] = 0 # at least one token is preserved \n",
    "        \n",
    "        probs[probs_indexes[indices]] = 0\n",
    "    \n",
    "    word = torch.multinomial(probs, 1).item()\n",
    "    # TODO handle the case that special token was emitted in the first pick\n",
    "    \n",
    "    return word"
   ]
  },
  {
   "cell_type": "code",
   "execution_count": 49,
   "metadata": {},
   "outputs": [],
   "source": [
    "def infer_answer(history, model, method=\"top_p\"):\n",
    "    \"\"\"\n",
    "    Function that generates word by word the bot answer, based on user input and previous history.\n",
    "    \n",
    "    :param history: a list of past sentences and last user's input, in plain text\n",
    "    :param model: the model to be used for inference\n",
    "    :return: a list with the words of the answer in plain text \n",
    "    \"\"\"\n",
    "    model.eval()\n",
    "    reply_so_far = []\n",
    "    with torch.no_grad():\n",
    "    \n",
    "        for i in range(max_sentence_length):\n",
    "            \n",
    "            input_ids, category_ids = format_input(history, reply_so_far)\n",
    "            # print(\"Inputs ids are {}\".format(input_ids)) seems good\n",
    "            # print(\"Category ids are {}\".format(category_ids)) seems good\n",
    "            outputs = model(input_ids=input_ids, token_type_ids=category_ids)\n",
    "            logits = outputs[0]\n",
    "            logits = logits[0, -1, :] / temperature # keep last \n",
    "            probs = F.softmax(logits, dim=-1) \n",
    "            word = decoding(probs, logits, method=method) \n",
    "            \n",
    "            if word in SPECIAL_TOKENS_IDS: # we stop inference if we find a special token without emitting this token\n",
    "                print(\"Bot terminate sentence!\")\n",
    "                break\n",
    "            reply_so_far.append(word)\n",
    "            \n",
    "        answer_text = tokenizer.decode(reply_so_far, skip_special_tokens=True)    \n",
    "        return answer_text"
   ]
  },
  {
   "cell_type": "code",
   "execution_count": 30,
   "metadata": {},
   "outputs": [],
   "source": [
    "def interact_with_bot(model, method='top_p'):\n",
    "    \"\"\"\n",
    "    \"\"\"\n",
    "    bot_prompt = \"bot:>>> \"\n",
    "    user_prompt = \"user:>>> \"\n",
    "\n",
    "    history = []\n",
    "    print(bot_prompt + \"Hello how may I help you?\")\n",
    "    user_input = input(user_prompt)\n",
    "    \n",
    "    while user_input != \"\\q\":\n",
    "        # TODO truncate user input to not exceed max_length\n",
    "        history.append(user_input)\n",
    "        answer = infer_answer(history, model, method=method)\n",
    "        history.append(answer)\n",
    "        \n",
    "        history = history[-(2*max_history+1):]  # keep the same history as in the training \n",
    "        \n",
    "        print(bot_prompt + answer)\n",
    "        \n",
    "        user_input = input(user_prompt) "
   ]
  },
  {
   "cell_type": "code",
   "execution_count": 67,
   "metadata": {},
   "outputs": [
    {
     "name": "stdout",
     "output_type": "stream",
     "text": [
      "bot:>>> Hello how may I help you?\n",
      "user:>>> He died unmarried and the earldom became extinct.\n",
      "tensor([0.5603, 0.0980, 0.0474, 0.0310, 0.0208, 0.0200, 0.0125, 0.0101, 0.0092,\n",
      "        0.0088, 0.0077, 0.0075, 0.0072, 0.0070, 0.0058, 0.0050, 0.0049, 0.0048,\n",
      "        0.0046, 0.0040, 0.0040, 0.0039, 0.0037, 0.0035, 0.0033, 0.0032, 0.0032,\n",
      "        0.0031, 0.0030, 0.0028, 0.0028, 0.0024, 0.0023, 0.0021, 0.0020, 0.0020,\n",
      "        0.0018, 0.0015, 0.0014, 0.0014])\n",
      "torch.Size([40443, 1])\n",
      "tensor([0.7168, 0.0877, 0.0183, 0.0167, 0.0148, 0.0065, 0.0051, 0.0047, 0.0045,\n",
      "        0.0045, 0.0035, 0.0032, 0.0028, 0.0028, 0.0027, 0.0024, 0.0024, 0.0019,\n",
      "        0.0018, 0.0015, 0.0015, 0.0013, 0.0013, 0.0013, 0.0013, 0.0013, 0.0012,\n",
      "        0.0012, 0.0011, 0.0011, 0.0011, 0.0011, 0.0011, 0.0010, 0.0010, 0.0010,\n",
      "        0.0010, 0.0009, 0.0009, 0.0009])\n",
      "torch.Size([40443, 1])\n",
      "tensor([0.0538, 0.0368, 0.0224, 0.0178, 0.0177, 0.0166, 0.0141, 0.0141, 0.0135,\n",
      "        0.0129, 0.0128, 0.0127, 0.0121, 0.0093, 0.0086, 0.0082, 0.0080, 0.0076,\n",
      "        0.0067, 0.0066, 0.0060, 0.0059, 0.0058, 0.0056, 0.0053, 0.0052, 0.0051,\n",
      "        0.0049, 0.0047, 0.0047, 0.0046, 0.0043, 0.0043, 0.0042, 0.0041, 0.0041,\n",
      "        0.0039, 0.0038, 0.0038, 0.0035])\n",
      "torch.Size([40443, 1])\n",
      "tensor([6.2738e-01, 1.2472e-01, 4.9952e-02, 3.3832e-02, 3.1867e-02, 2.7983e-02,\n",
      "        1.5254e-02, 1.4129e-02, 1.1628e-02, 4.4333e-03, 3.6423e-03, 3.4992e-03,\n",
      "        3.2004e-03, 2.7232e-03, 2.4919e-03, 2.1324e-03, 1.9860e-03, 1.8368e-03,\n",
      "        1.6994e-03, 1.5633e-03, 1.5201e-03, 1.4736e-03, 1.3699e-03, 1.1811e-03,\n",
      "        1.1758e-03, 1.1141e-03, 9.6000e-04, 9.2884e-04, 9.2228e-04, 8.4968e-04,\n",
      "        7.2427e-04, 7.1440e-04, 6.3989e-04, 6.0479e-04, 5.2259e-04, 5.1746e-04,\n",
      "        5.0810e-04, 4.7396e-04, 4.7232e-04, 4.7012e-04])\n",
      "torch.Size([40443, 1])\n",
      "tensor([0.3866, 0.1891, 0.1235, 0.0406, 0.0391, 0.0262, 0.0233, 0.0193, 0.0168,\n",
      "        0.0131, 0.0104, 0.0070, 0.0060, 0.0057, 0.0056, 0.0054, 0.0044, 0.0041,\n",
      "        0.0036, 0.0032, 0.0025, 0.0022, 0.0021, 0.0020, 0.0019, 0.0019, 0.0017,\n",
      "        0.0016, 0.0016, 0.0016, 0.0016, 0.0015, 0.0015, 0.0014, 0.0011, 0.0010,\n",
      "        0.0010, 0.0010, 0.0010, 0.0010])\n",
      "torch.Size([40443, 1])\n",
      "tensor([0.2932, 0.1832, 0.0684, 0.0544, 0.0465, 0.0253, 0.0219, 0.0179, 0.0155,\n",
      "        0.0141, 0.0139, 0.0131, 0.0107, 0.0096, 0.0085, 0.0085, 0.0078, 0.0075,\n",
      "        0.0072, 0.0060, 0.0060, 0.0048, 0.0045, 0.0045, 0.0045, 0.0043, 0.0042,\n",
      "        0.0040, 0.0039, 0.0034, 0.0029, 0.0027, 0.0026, 0.0025, 0.0024, 0.0024,\n",
      "        0.0024, 0.0022, 0.0020, 0.0019])\n",
      "torch.Size([40443, 1])\n",
      "tensor([0.1743, 0.1711, 0.0654, 0.0585, 0.0416, 0.0282, 0.0273, 0.0268, 0.0228,\n",
      "        0.0224, 0.0182, 0.0158, 0.0154, 0.0127, 0.0111, 0.0098, 0.0097, 0.0074,\n",
      "        0.0072, 0.0061, 0.0051, 0.0051, 0.0050, 0.0049, 0.0048, 0.0048, 0.0044,\n",
      "        0.0042, 0.0041, 0.0039, 0.0039, 0.0039, 0.0037, 0.0036, 0.0036, 0.0035,\n",
      "        0.0033, 0.0033, 0.0031, 0.0030])\n",
      "torch.Size([40443, 1])\n",
      "tensor([0.1652, 0.1315, 0.1118, 0.1034, 0.0876, 0.0815, 0.0282, 0.0216, 0.0164,\n",
      "        0.0159, 0.0137, 0.0135, 0.0093, 0.0084, 0.0081, 0.0062, 0.0060, 0.0057,\n",
      "        0.0055, 0.0049, 0.0048, 0.0046, 0.0045, 0.0044, 0.0040, 0.0040, 0.0039,\n",
      "        0.0037, 0.0036, 0.0035, 0.0034, 0.0031, 0.0031, 0.0027, 0.0025, 0.0024,\n",
      "        0.0024, 0.0024, 0.0022, 0.0021])\n",
      "torch.Size([40443, 1])\n",
      "tensor([0.2457, 0.1141, 0.1129, 0.1122, 0.0661, 0.0609, 0.0546, 0.0203, 0.0185,\n",
      "        0.0140, 0.0132, 0.0119, 0.0101, 0.0068, 0.0062, 0.0050, 0.0046, 0.0046,\n",
      "        0.0038, 0.0038, 0.0037, 0.0035, 0.0032, 0.0032, 0.0032, 0.0031, 0.0027,\n",
      "        0.0025, 0.0025, 0.0024, 0.0022, 0.0021, 0.0021, 0.0021, 0.0020, 0.0019,\n",
      "        0.0019, 0.0018, 0.0018, 0.0018])\n",
      "torch.Size([40443, 1])\n",
      "tensor([4.4925e-01, 1.3664e-01, 9.1782e-02, 9.1359e-02, 5.4430e-02, 5.0630e-02,\n",
      "        1.7651e-02, 1.5848e-02, 1.4826e-02, 1.3307e-02, 9.0591e-03, 7.2889e-03,\n",
      "        5.3891e-03, 4.6756e-03, 4.2017e-03, 3.7589e-03, 2.6539e-03, 2.0714e-03,\n",
      "        1.8159e-03, 1.6556e-03, 1.2614e-03, 1.0200e-03, 9.7027e-04, 9.2164e-04,\n",
      "        8.2063e-04, 7.8446e-04, 6.4721e-04, 5.9496e-04, 5.4349e-04, 5.3883e-04,\n",
      "        5.3644e-04, 4.5966e-04, 4.3622e-04, 4.0609e-04, 3.3823e-04, 3.1902e-04,\n",
      "        2.7081e-04, 2.6084e-04, 2.4256e-04, 2.4111e-04])\n",
      "torch.Size([40443, 1])\n",
      "tensor([0.2563, 0.1282, 0.0768, 0.0516, 0.0496, 0.0474, 0.0365, 0.0334, 0.0308,\n",
      "        0.0288, 0.0263, 0.0137, 0.0122, 0.0121, 0.0095, 0.0087, 0.0073, 0.0065,\n",
      "        0.0064, 0.0059, 0.0055, 0.0055, 0.0054, 0.0053, 0.0050, 0.0046, 0.0040,\n",
      "        0.0033, 0.0029, 0.0029, 0.0029, 0.0021, 0.0021, 0.0021, 0.0020, 0.0020,\n",
      "        0.0020, 0.0017, 0.0017, 0.0017])\n",
      "torch.Size([40443, 1])\n",
      "tensor([0.2245, 0.1461, 0.1077, 0.1018, 0.0698, 0.0479, 0.0388, 0.0286, 0.0281,\n",
      "        0.0189, 0.0185, 0.0172, 0.0167, 0.0153, 0.0106, 0.0092, 0.0085, 0.0084,\n",
      "        0.0073, 0.0069, 0.0068, 0.0042, 0.0033, 0.0031, 0.0023, 0.0019, 0.0018,\n",
      "        0.0018, 0.0017, 0.0017, 0.0017, 0.0016, 0.0012, 0.0012, 0.0012, 0.0010,\n",
      "        0.0009, 0.0009, 0.0008, 0.0008])\n",
      "torch.Size([40443, 1])\n",
      "tensor([0.3105, 0.2445, 0.1885, 0.0636, 0.0135, 0.0124, 0.0072, 0.0067, 0.0059,\n",
      "        0.0053, 0.0051, 0.0041, 0.0037, 0.0034, 0.0033, 0.0032, 0.0031, 0.0031,\n",
      "        0.0030, 0.0029, 0.0028, 0.0028, 0.0021, 0.0019, 0.0019, 0.0018, 0.0016,\n",
      "        0.0016, 0.0015, 0.0014, 0.0014, 0.0013, 0.0013, 0.0013, 0.0013, 0.0012,\n",
      "        0.0012, 0.0012, 0.0012, 0.0011])\n",
      "torch.Size([40443, 1])\n",
      "tensor([0.5373, 0.0686, 0.0620, 0.0442, 0.0272, 0.0216, 0.0125, 0.0105, 0.0083,\n",
      "        0.0076, 0.0073, 0.0067, 0.0061, 0.0061, 0.0056, 0.0049, 0.0048, 0.0047,\n",
      "        0.0047, 0.0043, 0.0039, 0.0037, 0.0033, 0.0030, 0.0029, 0.0026, 0.0024,\n",
      "        0.0024, 0.0024, 0.0022, 0.0022, 0.0020, 0.0020, 0.0018, 0.0016, 0.0016,\n",
      "        0.0015, 0.0014, 0.0014, 0.0014])\n",
      "torch.Size([40443, 1])\n",
      "tensor([0.5288, 0.1090, 0.0359, 0.0355, 0.0325, 0.0291, 0.0244, 0.0225, 0.0171,\n",
      "        0.0105, 0.0096, 0.0093, 0.0092, 0.0091, 0.0076, 0.0073, 0.0059, 0.0045,\n",
      "        0.0037, 0.0034, 0.0033, 0.0032, 0.0032, 0.0027, 0.0025, 0.0022, 0.0021,\n",
      "        0.0021, 0.0019, 0.0019, 0.0017, 0.0016, 0.0016, 0.0014, 0.0013, 0.0012,\n",
      "        0.0010, 0.0009, 0.0009, 0.0008])\n",
      "torch.Size([40443, 1])\n",
      "tensor([0.0462, 0.0395, 0.0329, 0.0299, 0.0244, 0.0241, 0.0240, 0.0215, 0.0200,\n",
      "        0.0171, 0.0168, 0.0143, 0.0143, 0.0141, 0.0129, 0.0122, 0.0118, 0.0112,\n",
      "        0.0109, 0.0100, 0.0099, 0.0095, 0.0092, 0.0091, 0.0087, 0.0087, 0.0079,\n",
      "        0.0079, 0.0079, 0.0078, 0.0077, 0.0074, 0.0072, 0.0071, 0.0070, 0.0067,\n",
      "        0.0066, 0.0064, 0.0061, 0.0058])\n",
      "torch.Size([40443, 1])\n",
      "tensor([5.0712e-01, 2.7483e-01, 9.4830e-02, 3.8779e-02, 1.4563e-02, 1.2171e-02,\n",
      "        6.3820e-03, 4.9627e-03, 4.0679e-03, 3.6031e-03, 2.9909e-03, 2.2402e-03,\n",
      "        2.2373e-03, 2.1086e-03, 2.0696e-03, 2.0142e-03, 1.9324e-03, 1.6032e-03,\n",
      "        1.5722e-03, 1.4639e-03, 1.2936e-03, 1.2796e-03, 8.4292e-04, 8.1425e-04,\n",
      "        8.0932e-04, 7.0682e-04, 7.0594e-04, 6.6066e-04, 6.5835e-04, 5.3112e-04,\n",
      "        4.6965e-04, 4.6672e-04, 4.3195e-04, 4.2584e-04, 3.5734e-04, 3.0648e-04,\n",
      "        2.9798e-04, 2.9241e-04, 2.8685e-04, 2.7093e-04])\n",
      "torch.Size([40443, 1])\n",
      "tensor([8.1519e-01, 1.0221e-01, 2.8990e-02, 6.3236e-03, 6.2591e-03, 4.7352e-03,\n",
      "        4.7084e-03, 3.9828e-03, 2.0355e-03, 2.0126e-03, 1.6756e-03, 1.2848e-03,\n",
      "        1.1821e-03, 1.1129e-03, 9.4429e-04, 8.0338e-04, 7.7023e-04, 5.9896e-04,\n",
      "        5.9552e-04, 5.5501e-04, 5.3950e-04, 5.3901e-04, 5.1487e-04, 4.3465e-04,\n",
      "        4.3424e-04, 4.1845e-04, 4.1473e-04, 3.9995e-04, 3.7390e-04, 3.6944e-04,\n",
      "        3.5468e-04, 3.4292e-04, 3.3968e-04, 3.2408e-04, 3.1352e-04, 3.1318e-04,\n",
      "        3.1168e-04, 3.0264e-04, 3.0227e-04, 2.9806e-04])\n",
      "torch.Size([40443, 1])\n",
      "tensor([0.3198, 0.2483, 0.1089, 0.0689, 0.0443, 0.0179, 0.0127, 0.0109, 0.0093,\n",
      "        0.0081, 0.0066, 0.0066, 0.0065, 0.0058, 0.0054, 0.0053, 0.0044, 0.0043,\n",
      "        0.0042, 0.0041, 0.0041, 0.0037, 0.0036, 0.0036, 0.0035, 0.0031, 0.0030,\n",
      "        0.0030, 0.0028, 0.0028, 0.0025, 0.0022, 0.0020, 0.0019, 0.0019, 0.0018,\n",
      "        0.0016, 0.0015, 0.0015, 0.0014])\n",
      "torch.Size([40443, 1])\n",
      "tensor([5.3061e-01, 2.5376e-01, 1.0471e-01, 3.7825e-02, 1.5075e-02, 1.2287e-02,\n",
      "        5.3990e-03, 4.2785e-03, 3.9279e-03, 3.1831e-03, 3.0337e-03, 2.2270e-03,\n",
      "        2.2246e-03, 2.0094e-03, 1.5170e-03, 1.4684e-03, 1.4654e-03, 1.3401e-03,\n",
      "        1.1675e-03, 1.1086e-03, 1.0837e-03, 6.9603e-04, 6.7244e-04, 6.5401e-04,\n",
      "        5.2243e-04, 5.1893e-04, 4.7158e-04, 4.0071e-04, 3.2293e-04, 3.0943e-04,\n",
      "        2.9207e-04, 2.7578e-04, 2.7325e-04, 2.7298e-04, 2.3624e-04, 1.9436e-04,\n",
      "        1.8485e-04, 1.5369e-04, 1.3501e-04, 1.2643e-04])\n",
      "torch.Size([40443, 1])\n",
      "bot:>>> and the death. \n",
      " i hadn't expected to find her to have a boyfriend, but it seemed\n"
     ]
    },
    {
     "name": "stdout",
     "output_type": "stream",
     "text": [
      "user:>>> that she had one.\n",
      "tensor([0.2044, 0.1081, 0.0920, 0.0412, 0.0373, 0.0349, 0.0338, 0.0188, 0.0176,\n",
      "        0.0136, 0.0134, 0.0133, 0.0114, 0.0111, 0.0106, 0.0093, 0.0087, 0.0081,\n",
      "        0.0080, 0.0079, 0.0069, 0.0067, 0.0067, 0.0066, 0.0059, 0.0059, 0.0055,\n",
      "        0.0055, 0.0053, 0.0052, 0.0050, 0.0049, 0.0049, 0.0049, 0.0046, 0.0045,\n",
      "        0.0045, 0.0043, 0.0043, 0.0042])\n",
      "torch.Size([40443, 1])\n",
      "tensor([0.2066, 0.1601, 0.1534, 0.0965, 0.0957, 0.0293, 0.0227, 0.0131, 0.0093,\n",
      "        0.0089, 0.0083, 0.0069, 0.0069, 0.0065, 0.0063, 0.0060, 0.0060, 0.0057,\n",
      "        0.0056, 0.0054, 0.0054, 0.0048, 0.0043, 0.0041, 0.0032, 0.0031, 0.0030,\n",
      "        0.0029, 0.0029, 0.0027, 0.0026, 0.0024, 0.0023, 0.0022, 0.0021, 0.0020,\n",
      "        0.0020, 0.0020, 0.0017, 0.0017])\n",
      "torch.Size([40443, 1])\n",
      "tensor([0.1342, 0.0704, 0.0391, 0.0360, 0.0335, 0.0310, 0.0268, 0.0261, 0.0207,\n",
      "        0.0188, 0.0186, 0.0181, 0.0164, 0.0163, 0.0152, 0.0126, 0.0123, 0.0121,\n",
      "        0.0103, 0.0097, 0.0096, 0.0096, 0.0080, 0.0074, 0.0069, 0.0068, 0.0065,\n",
      "        0.0062, 0.0059, 0.0056, 0.0050, 0.0050, 0.0048, 0.0044, 0.0039, 0.0035,\n",
      "        0.0035, 0.0033, 0.0032, 0.0030])\n",
      "torch.Size([40443, 1])\n",
      "tensor([9.3252e-01, 6.3891e-02, 1.3045e-03, 8.8715e-04, 2.2899e-04, 2.1104e-04,\n",
      "        1.2780e-04, 7.2083e-05, 5.2899e-05, 3.7971e-05, 3.7918e-05, 3.5872e-05,\n",
      "        3.4690e-05, 3.1834e-05, 3.0082e-05, 3.0029e-05, 2.5504e-05, 2.4501e-05,\n",
      "        2.2828e-05, 2.2006e-05, 1.9987e-05, 1.9520e-05, 1.8698e-05, 1.6616e-05,\n",
      "        1.5958e-05, 1.4629e-05, 1.3578e-05, 1.1418e-05, 1.0140e-05, 8.3831e-06,\n",
      "        7.8690e-06, 7.6539e-06, 7.6130e-06, 6.5306e-06, 6.5254e-06, 6.5111e-06,\n",
      "        6.0977e-06, 5.2932e-06, 4.5667e-06, 4.5295e-06])\n",
      "torch.Size([40443, 1])\n",
      "tensor([0.1813, 0.1447, 0.1141, 0.0819, 0.0550, 0.0267, 0.0174, 0.0114, 0.0098,\n",
      "        0.0094, 0.0082, 0.0078, 0.0071, 0.0068, 0.0066, 0.0063, 0.0051, 0.0045,\n",
      "        0.0042, 0.0041, 0.0040, 0.0039, 0.0039, 0.0039, 0.0036, 0.0034, 0.0034,\n",
      "        0.0033, 0.0033, 0.0033, 0.0032, 0.0031, 0.0030, 0.0027, 0.0023, 0.0023,\n",
      "        0.0022, 0.0022, 0.0022, 0.0022])\n",
      "torch.Size([40443, 1])\n",
      "tensor([5.7315e-01, 1.7957e-01, 1.1640e-01, 4.4920e-02, 2.8478e-02, 7.5932e-03,\n",
      "        6.6510e-03, 4.0175e-03, 4.0105e-03, 3.5981e-03, 2.8815e-03, 2.7760e-03,\n",
      "        2.7125e-03, 2.4036e-03, 1.3482e-03, 1.0897e-03, 1.0400e-03, 1.0134e-03,\n",
      "        8.1681e-04, 8.1307e-04, 8.0884e-04, 8.0045e-04, 5.6876e-04, 5.0733e-04,\n",
      "        4.8605e-04, 4.7685e-04, 4.1024e-04, 4.0898e-04, 3.8262e-04, 3.7791e-04,\n",
      "        3.7062e-04, 3.6582e-04, 3.6491e-04, 3.5595e-04, 3.4389e-04, 3.3396e-04,\n",
      "        3.0125e-04, 2.6462e-04, 2.4612e-04, 2.1149e-04])\n",
      "torch.Size([40443, 1])\n",
      "tensor([0.3762, 0.1442, 0.0840, 0.0478, 0.0467, 0.0261, 0.0235, 0.0182, 0.0155,\n",
      "        0.0081, 0.0062, 0.0055, 0.0055, 0.0054, 0.0040, 0.0038, 0.0037, 0.0036,\n",
      "        0.0035, 0.0033, 0.0028, 0.0027, 0.0022, 0.0021, 0.0021, 0.0021, 0.0021,\n",
      "        0.0020, 0.0019, 0.0019, 0.0019, 0.0018, 0.0018, 0.0017, 0.0017, 0.0016,\n",
      "        0.0016, 0.0015, 0.0015, 0.0015])\n",
      "torch.Size([40443, 1])\n",
      "tensor([0.1490, 0.0849, 0.0432, 0.0410, 0.0394, 0.0321, 0.0287, 0.0267, 0.0263,\n",
      "        0.0258, 0.0196, 0.0192, 0.0148, 0.0146, 0.0125, 0.0111, 0.0088, 0.0082,\n",
      "        0.0079, 0.0071, 0.0070, 0.0067, 0.0066, 0.0064, 0.0063, 0.0060, 0.0058,\n",
      "        0.0058, 0.0055, 0.0050, 0.0047, 0.0046, 0.0045, 0.0042, 0.0038, 0.0035,\n",
      "        0.0035, 0.0034, 0.0033, 0.0033])\n",
      "torch.Size([40443, 1])\n",
      "tensor([9.8011e-01, 1.5699e-02, 1.6300e-03, 1.2698e-03, 5.6534e-04, 9.7574e-05,\n",
      "        6.6365e-05, 6.0801e-05, 4.9942e-05, 3.8679e-05, 3.4736e-05, 2.8606e-05,\n",
      "        2.7812e-05, 2.3879e-05, 1.6576e-05, 1.4694e-05, 1.3421e-05, 1.3060e-05,\n",
      "        1.2970e-05, 9.3975e-06, 9.2535e-06, 8.6326e-06, 8.5089e-06, 8.0307e-06,\n",
      "        8.0265e-06, 7.7976e-06, 7.4756e-06, 6.3489e-06, 5.5674e-06, 5.3548e-06,\n",
      "        5.3088e-06, 4.8647e-06, 4.6894e-06, 4.4490e-06, 4.3769e-06, 4.3589e-06,\n",
      "        4.2600e-06, 3.7251e-06, 3.4968e-06, 3.1547e-06])\n",
      "torch.Size([40443, 1])\n",
      "tensor([0.3702, 0.2261, 0.2037, 0.0133, 0.0111, 0.0095, 0.0091, 0.0075, 0.0059,\n",
      "        0.0058, 0.0051, 0.0042, 0.0032, 0.0031, 0.0029, 0.0027, 0.0023, 0.0023,\n",
      "        0.0022, 0.0019, 0.0019, 0.0018, 0.0017, 0.0017, 0.0016, 0.0016, 0.0016,\n",
      "        0.0016, 0.0015, 0.0014, 0.0014, 0.0014, 0.0014, 0.0012, 0.0012, 0.0011,\n",
      "        0.0011, 0.0011, 0.0011, 0.0010])\n",
      "torch.Size([40443, 1])\n",
      "tensor([0.1537, 0.0900, 0.0504, 0.0476, 0.0386, 0.0379, 0.0341, 0.0336, 0.0242,\n",
      "        0.0215, 0.0176, 0.0168, 0.0163, 0.0162, 0.0143, 0.0112, 0.0102, 0.0083,\n",
      "        0.0074, 0.0073, 0.0073, 0.0067, 0.0065, 0.0057, 0.0057, 0.0056, 0.0052,\n",
      "        0.0049, 0.0049, 0.0044, 0.0044, 0.0043, 0.0040, 0.0040, 0.0037, 0.0037,\n",
      "        0.0031, 0.0031, 0.0029, 0.0029])\n",
      "torch.Size([40443, 1])\n",
      "tensor([6.0388e-01, 2.7832e-01, 3.4531e-02, 3.1834e-02, 1.0692e-02, 5.0609e-03,\n",
      "        4.9564e-03, 2.9049e-03, 2.1066e-03, 1.9965e-03, 1.4428e-03, 1.2892e-03,\n",
      "        1.2274e-03, 1.2029e-03, 1.1668e-03, 1.0645e-03, 8.5707e-04, 6.3989e-04,\n",
      "        5.9364e-04, 4.3686e-04, 3.6678e-04, 3.6337e-04, 3.0560e-04, 3.0070e-04,\n",
      "        2.9908e-04, 2.8713e-04, 2.7133e-04, 2.5916e-04, 2.3381e-04, 2.3021e-04,\n",
      "        2.1915e-04, 2.0711e-04, 2.0675e-04, 2.0611e-04, 2.0457e-04, 2.0005e-04,\n",
      "        1.9947e-04, 1.9146e-04, 1.9030e-04, 1.8238e-04])\n",
      "torch.Size([40443, 1])\n",
      "tensor([0.4600, 0.2512, 0.0959, 0.0348, 0.0090, 0.0089, 0.0082, 0.0065, 0.0060,\n",
      "        0.0056, 0.0052, 0.0045, 0.0044, 0.0042, 0.0040, 0.0035, 0.0033, 0.0031,\n",
      "        0.0031, 0.0027, 0.0027, 0.0025, 0.0018, 0.0015, 0.0015, 0.0013, 0.0013,\n",
      "        0.0012, 0.0011, 0.0011, 0.0010, 0.0010, 0.0010, 0.0010, 0.0009, 0.0009,\n",
      "        0.0008, 0.0008, 0.0007, 0.0007])\n",
      "torch.Size([40443, 1])\n",
      "tensor([0.1486, 0.1063, 0.0644, 0.0598, 0.0289, 0.0279, 0.0188, 0.0166, 0.0151,\n",
      "        0.0140, 0.0130, 0.0129, 0.0100, 0.0092, 0.0089, 0.0086, 0.0079, 0.0078,\n",
      "        0.0077, 0.0074, 0.0065, 0.0063, 0.0053, 0.0053, 0.0052, 0.0048, 0.0048,\n",
      "        0.0047, 0.0045, 0.0042, 0.0042, 0.0042, 0.0040, 0.0036, 0.0035, 0.0034,\n",
      "        0.0033, 0.0033, 0.0032, 0.0031])\n",
      "torch.Size([40443, 1])\n",
      "tensor([7.7930e-01, 7.3184e-02, 4.0691e-02, 2.5955e-02, 2.5700e-02, 6.9107e-03,\n",
      "        6.5592e-03, 4.5300e-03, 4.5169e-03, 3.1795e-03, 2.3580e-03, 1.8459e-03,\n",
      "        1.3715e-03, 1.2042e-03, 1.1871e-03, 8.9047e-04, 7.5371e-04, 7.2614e-04,\n",
      "        5.8356e-04, 5.6358e-04, 4.9132e-04, 4.6970e-04, 4.6076e-04, 4.1032e-04,\n",
      "        4.0070e-04, 3.9853e-04, 3.8839e-04, 3.7309e-04, 3.4436e-04, 3.3635e-04,\n",
      "        3.1947e-04, 3.1675e-04, 2.8409e-04, 2.6110e-04, 2.5728e-04, 2.5070e-04,\n",
      "        2.4820e-04, 2.4708e-04, 2.4474e-04, 2.3465e-04])\n",
      "torch.Size([40443, 1])\n",
      "tensor([0.3718, 0.2253, 0.2116, 0.0127, 0.0088, 0.0083, 0.0078, 0.0052, 0.0042,\n",
      "        0.0039, 0.0037, 0.0037, 0.0035, 0.0033, 0.0029, 0.0029, 0.0028, 0.0024,\n",
      "        0.0022, 0.0021, 0.0020, 0.0017, 0.0016, 0.0016, 0.0015, 0.0014, 0.0014,\n",
      "        0.0014, 0.0014, 0.0012, 0.0011, 0.0011, 0.0011, 0.0011, 0.0011, 0.0010,\n",
      "        0.0010, 0.0009, 0.0009, 0.0009])\n",
      "torch.Size([40443, 1])\n",
      "tensor([5.6957e-01, 2.9683e-01, 5.5612e-02, 1.6312e-02, 1.0838e-02, 5.4398e-03,\n",
      "        4.2227e-03, 3.3825e-03, 3.2337e-03, 2.8858e-03, 2.7038e-03, 2.6847e-03,\n",
      "        2.4950e-03, 1.7673e-03, 1.0292e-03, 1.0084e-03, 9.3138e-04, 7.9121e-04,\n",
      "        7.7009e-04, 6.8900e-04, 6.8867e-04, 6.8118e-04, 6.5483e-04, 6.4448e-04,\n",
      "        5.4022e-04, 5.2456e-04, 4.7854e-04, 4.7487e-04, 3.9799e-04, 3.9477e-04,\n",
      "        3.8888e-04, 3.8228e-04, 3.8127e-04, 3.3351e-04, 3.2658e-04, 2.8210e-04,\n",
      "        2.7211e-04, 2.5892e-04, 2.5878e-04, 2.4987e-04])\n",
      "torch.Size([40443, 1])\n",
      "tensor([0.4301, 0.3420, 0.0507, 0.0373, 0.0245, 0.0164, 0.0120, 0.0098, 0.0092,\n",
      "        0.0074, 0.0031, 0.0020, 0.0020, 0.0017, 0.0016, 0.0016, 0.0016, 0.0015,\n",
      "        0.0015, 0.0015, 0.0014, 0.0014, 0.0013, 0.0013, 0.0012, 0.0011, 0.0011,\n",
      "        0.0011, 0.0011, 0.0010, 0.0010, 0.0010, 0.0009, 0.0009, 0.0009, 0.0008,\n",
      "        0.0007, 0.0006, 0.0006, 0.0006])\n",
      "torch.Size([40443, 1])\n",
      "tensor([0.2722, 0.1505, 0.1056, 0.0751, 0.0625, 0.0383, 0.0204, 0.0189, 0.0174,\n",
      "        0.0169, 0.0167, 0.0137, 0.0124, 0.0121, 0.0088, 0.0080, 0.0078, 0.0072,\n",
      "        0.0072, 0.0069, 0.0066, 0.0063, 0.0056, 0.0054, 0.0041, 0.0040, 0.0039,\n",
      "        0.0036, 0.0033, 0.0031, 0.0029, 0.0023, 0.0021, 0.0021, 0.0019, 0.0019,\n",
      "        0.0017, 0.0017, 0.0017, 0.0016])\n",
      "torch.Size([40443, 1])\n"
     ]
    },
    {
     "name": "stdout",
     "output_type": "stream",
     "text": [
      "tensor([0.4418, 0.2654, 0.0428, 0.0389, 0.0372, 0.0357, 0.0204, 0.0138, 0.0132,\n",
      "        0.0128, 0.0101, 0.0074, 0.0040, 0.0027, 0.0022, 0.0022, 0.0021, 0.0020,\n",
      "        0.0019, 0.0016, 0.0016, 0.0015, 0.0015, 0.0013, 0.0012, 0.0011, 0.0011,\n",
      "        0.0010, 0.0010, 0.0009, 0.0009, 0.0008, 0.0008, 0.0008, 0.0007, 0.0007,\n",
      "        0.0007, 0.0007, 0.0006, 0.0006])\n",
      "torch.Size([40443, 1])\n",
      "bot:>>> had a sense of fear and a fondness for a feeling for the love of depression, but then she\n",
      "user:>>> \\q\n"
     ]
    }
   ],
   "source": [
    "interact_with_bot(model, method='top_k')\n",
    "test = \"could you book a ticket for me?\""
   ]
  },
  {
   "cell_type": "markdown",
   "metadata": {},
   "source": [
    "# DEBUG AREA"
   ]
  },
  {
   "cell_type": "code",
   "execution_count": 190,
   "metadata": {},
   "outputs": [],
   "source": [
    "x =zip(pairs_train_len, pairs_train)\n",
    "\n",
    "for y in x:\n",
    "    print(y[0])\n",
    "    \n",
    "Z = [sample for length, sample in sorted(zip(pairs_train_len, pairs_train), key = lambda x: x[0])]\n",
    "print(len(Z))    \n",
    "\n",
    "training_set = DialogDataset(Z) "
   ]
  },
  {
   "cell_type": "code",
   "execution_count": 81,
   "metadata": {},
   "outputs": [
    {
     "name": "stdout",
     "output_type": "stream",
     "text": [
      "torch.return_types.topk(\n",
      "values=tensor([8.1849, 7.7367, 5.3123, 5.3115, 4.0969], grad_fn=<TopkBackward>),\n",
      "indices=tensor([509, 558, 535, 656, 980]))\n",
      "tensor([  8.1849,   7.7367,   5.3123,  ..., -50.3099, -51.1483, -51.4548],\n",
      "       grad_fn=<SortBackward>)\n",
      "tensor([  509,   558,   535,  ..., 33567, 32509, 16443])\n"
     ]
    },
    {
     "data": {
      "text/plain": [
       "torch.return_types.topk(\n",
       "values=tensor([8.1849, 7.7367, 5.3123, 5.3115, 4.0969], grad_fn=<TopkBackward>),\n",
       "indices=tensor([509, 558, 535, 656, 980]))"
      ]
     },
     "execution_count": 81,
     "metadata": {},
     "output_type": "execute_result"
    }
   ],
   "source": [
    "# print(logits_e)\n",
    "print(torch.topk(logits_e, 5))\n",
    "log_sort, log_index = logits_e.sort(dim=-1, descending=True)\n",
    "print(log_sort)\n",
    "print(log_index)\n",
    "logits_e.topk(5)"
   ]
  },
  {
   "cell_type": "code",
   "execution_count": 86,
   "metadata": {},
   "outputs": [],
   "source": [
    "cum_prob = probs.cumsum(dim=-1)"
   ]
  },
  {
   "cell_type": "code",
   "execution_count": 95,
   "metadata": {},
   "outputs": [],
   "source": [
    "c = cum_prob > 0.9"
   ]
  },
  {
   "cell_type": "code",
   "execution_count": 96,
   "metadata": {},
   "outputs": [],
   "source": [
    "c[1:] = c[:-1].clone()\n",
    "#c[0] = 0"
   ]
  },
  {
   "cell_type": "code",
   "execution_count": 102,
   "metadata": {},
   "outputs": [
    {
     "data": {
      "text/plain": [
       "tensor(False)"
      ]
     },
     "execution_count": 102,
     "metadata": {},
     "output_type": "execute_result"
    }
   ],
   "source": [
    "c[558]"
   ]
  },
  {
   "cell_type": "code",
   "execution_count": 97,
   "metadata": {},
   "outputs": [
    {
     "data": {
      "text/plain": [
       "tensor([559])"
      ]
     },
     "execution_count": 97,
     "metadata": {},
     "output_type": "execute_result"
    }
   ],
   "source": [
    "(c == True).nonzero()[0]"
   ]
  },
  {
   "cell_type": "code",
   "execution_count": 72,
   "metadata": {},
   "outputs": [
    {
     "name": "stdout",
     "output_type": "stream",
     "text": [
      "tensor(5.3508, grad_fn=<NllLossBackward>)\n",
      "torch.Size([32, 124, 40483])\n",
      "<class 'tuple'>\n",
      "1\n",
      "torch.Size([32, 124, 40483])\n",
      "torch.Size([40483])\n",
      "509\n",
      "509\n"
     ]
    }
   ],
   "source": [
    "loss, logits = outputs[:2]\n",
    "print(loss)\n",
    "print(logits.shape)\n",
    "\n",
    "model.eval()\n",
    "outputs_e = model(input_ids=input_ids.type(torch.LongTensor), token_type_ids=category_ids.type(torch.LongTensor))\n",
    "print(type(outputs_e))\n",
    "\n",
    "print(len(outputs_e))\n",
    "print(outputs_e[0].shape)\n",
    "logits_e = outputs_e[0]\n",
    "logits_e = logits_e[0, -1, :] / temperature\n",
    "print(logits_e.shape)\n",
    "probs = F.softmax(logits_e, dim=-1)\n",
    "\n",
    "word = torch.argmax(probs)\n",
    "word_3 = torch.argmax(logits_e)\n",
    "# word_2 = torch.topk(probs, 1)[1]\n",
    "print(word.item()) \n",
    "print(word_3.item())"
   ]
  },
  {
   "cell_type": "code",
   "execution_count": 438,
   "metadata": {
    "jupyter": {
     "source_hidden": true
    }
   },
   "outputs": [],
   "source": [
    "def create_segments(dialog_pairs):\n",
    "    dataset = []\n",
    "    for pair in dialog_pairs:\n",
    "        instance = build_input_from_segments(pair['input'], pair['output'], tokenizer)\n",
    "        dataset.append(instance)\n",
    "    return dataset\n",
    "\n",
    "\n",
    "def pad_sequenses(dataset, padding=0):\n",
    "    # TODO create mask for each entry\n",
    "    max_seq_len = max(len(entry[\"input_ids\"]) for entry in dataset)\n",
    "    print(max_seq_len)\n",
    "    for entry in dataset:\n",
    "        for index_name in entry.keys():\n",
    "            entry[index_name] =  entry[index_name] + [padding if index_name != \"lm_labels\" else -1] * (max_seq_len - len(entry[index_name]))\n",
    "        # entry[index_name] =  [ for index_name in entry.keys()]\n",
    "    return dataset   \n",
    "\n",
    "test_1 = create_segments(pairs_train)\n",
    "test_2 = pad_sequenses(test_1)\n",
    "test_1[0]\n",
    "test_2[0]"
   ]
  },
  {
   "cell_type": "code",
   "execution_count": 458,
   "metadata": {},
   "outputs": [
    {
     "data": {
      "text/plain": [
       "Embedding(40483, 768)"
      ]
     },
     "execution_count": 458,
     "metadata": {},
     "output_type": "execute_result"
    }
   ],
   "source": [
    "# len(tokenizer.encoder)\n",
    "# model.resize_token_embeddings(new_num_tokens=40478 + 5)"
   ]
  },
  {
   "cell_type": "code",
   "execution_count": null,
   "metadata": {},
   "outputs": [],
   "source": [
    "# model = OpenAIGPTDoubleHeadsModel.from_pretrained('openai-gpt')\n",
    "# print(model)\n",
    "# model_raw = OpenAIGPTModel.from_pretrained('openai-gpt')\n",
    "# print(model_raw) # without the last linear layer"
   ]
  },
  {
   "cell_type": "code",
   "execution_count": 37,
   "metadata": {},
   "outputs": [
    {
     "name": "stdout",
     "output_type": "stream",
     "text": [
      "['could</w>', 'you</w>', 'book</w>', 'me</w>', 'a</w>', 'ticket</w>', '?</w>']\n",
      "[635, 512, 1861, 510, 246, 8194, 257]\n"
     ]
    },
    {
     "data": {
      "text/plain": [
       "[249, 249, 249, 249, 249, 249, 249, 249, 249, 249, 249, 249, 249, 249, 249]"
      ]
     },
     "execution_count": 37,
     "metadata": {},
     "output_type": "execute_result"
    }
   ],
   "source": [
    "a = [1,2,3]\n",
    "it = iter(a)\n",
    "testt = [it]*3\n",
    "\n",
    "test_tok = tokenizer.tokenize('could you book me a ticket?')\n",
    "print(test_tok)\n",
    "print(tokenizer.convert_tokens_to_ids(test_tok)) # all tokens must be lowercase \n",
    "tokenizer.encode('i i i i i i i i i i i i i i i')"
   ]
  },
  {
   "cell_type": "code",
   "execution_count": 233,
   "metadata": {},
   "outputs": [
    {
     "data": {
      "text/plain": [
       "512"
      ]
     },
     "execution_count": 233,
     "metadata": {},
     "output_type": "execute_result"
    }
   ],
   "source": [
    "tokenizer.max_len # what does it means ?"
   ]
  },
  {
   "cell_type": "code",
   "execution_count": 372,
   "metadata": {},
   "outputs": [
    {
     "name": "stdout",
     "output_type": "stream",
     "text": [
      "input_ids\n",
      "token_type_ids\n",
      "lm_labels\n"
     ]
    }
   ],
   "source": [
    "for index_name in instance.keys():\n",
    "    print(index_name)"
   ]
  },
  {
   "cell_type": "code",
   "execution_count": 41,
   "metadata": {},
   "outputs": [],
   "source": [
    "# debug cell\n",
    "def build_inputs(persona, history, reply):\n",
    "    # Build our sequence by adding delimiters and concatenating\n",
    "    sequence = [[bos] + list(chain(*persona))] + history + [reply + [eos]]\n",
    "    sequence = [sequence[0]] + [ [speaker2 if (len(sequence)-i) % 2 else speaker1] + s\n",
    "                                for i, s in enumerate(sequence[1:])]\n",
    "    # Build our word, segments and position inputs from the sequence\n",
    "    words = list(chain(*sequence))                          # word tokens\n",
    "    segments = [speaker2 if i % 2 else speaker1             # segment tokens\n",
    "                for i, s in enumerate(sequence) for _ in s]\n",
    "    position = list(range(len(words)))                      # position tokens\n",
    "    return words, segments, position, sequence\n",
    "\n",
    "persona = [[\"i\", \"like\", \"playing\", \"football\", \".\"],\n",
    "           [\"i\", \"am\", \"from\", \"NYC\", \".\"]]\n",
    "history = [[\"hello\", \"how\", \"are\", \"you\", \"?\"],\n",
    "           [\"i\", \"am\", \"fine\", \"thanks\", \".\"]]\n",
    "reply = [\"great\", \"to\", \"hear\"]\n",
    "\n",
    "sequence = [[\"<bos>\"] + list(chain(*persona))] + history +  [reply + [\"<eos>\"]]\n",
    "sequence = [sequence[0]] + [ [speaker2 if (len(sequence)-i) % 2 else speaker1] + s for i, s in enumerate(sequence[1:])]\n",
    "print(sequence)\n",
    "print(list(chain(*sequence))   )\n",
    "[speaker2 if i % 2 else speaker1 for i, s in enumerate(sequence) for _ in s]\n",
    "\n",
    "def build_input_from_segments_or(persona, history, reply, tokenizer, lm_labels=False, with_eos=True):\n",
    "    \"\"\" Build a sequence of input from 3 segments: persona, history and last reply. \"\"\"\n",
    "    bos, eos, speaker1, speaker2 = tokenizer.convert_tokens_to_ids(SPECIAL_TOKENS[:-1])\n",
    "    sequence = [[bos] + list(chain(*persona))] + history + [reply + ([eos] if with_eos else [])]  # chain: expands the lists  \n",
    "    sequence = [sequence[0]] + [[speaker2 if (len(sequence)-i) % 2 else speaker1] + s for i, s in enumerate(sequence[1:])]\n",
    "    instance = {}\n",
    "    instance[\"input_ids\"] = list(chain(*sequence)) # words\n",
    "    instance[\"token_type_ids\"] = [speaker2 if i % 2 else speaker1 for i, s in enumerate(sequence) for _ in s]\n",
    "    instance[\"mc_token_ids\"] = len(instance[\"input_ids\"]) - 1\n",
    "    instance[\"lm_labels\"] = [-1] * len(instance[\"input_ids\"])\n",
    "    if lm_labels:\n",
    "        instance[\"lm_labels\"] = ([-1] * sum(len(s) for s in sequence[:-1])) + [-1] + sequence[-1][1:]\n",
    "    return instance"
   ]
  },
  {
   "cell_type": "code",
   "execution_count": 289,
   "metadata": {},
   "outputs": [
    {
     "name": "stdout",
     "output_type": "stream",
     "text": [
      "5\n",
      "[[40478], [40481, 249, 1048, 6702], [40482, 498, 1385, 512, 640], [40481, 488, 249, 1074, 12361, 15354, 504, 481, 3361], [40482, 249, 2518, 512, 1074, 246, 5358, 500, 481, 3361, 40479]]\n"
     ]
    }
   ],
   "source": [
    "# debug cell\n",
    "history = [[249, 1048, 6702], [498, 1385, 512, 640], [488, 249, 1074, 12361, 15354, 504, 481, 3361]]\n",
    "reply =  [249, 2518, 512, 1074, 246, 5358, 500, 481, 3361]\n",
    "\n",
    "instance = build_input_from_segments(history, reply, tokenizer)\n",
    "instance_or = build_input_from_segments_or(persona, history, reply, tokenizer, lm_labels=True)\n",
    "\n",
    "print(tokenizer.convert_tokens_to_ids(SPECIAL_TOKENS[:-1]))\n",
    "instance_or[\"input_ids\"]\n",
    "instance_or[\"token_type_ids\"]\n",
    "instance[\"input_ids\"] \n",
    "instance[\"token_type_ids\"] \n",
    "instance = build_input_from_segments(persona, history, reply, tokenizer)\n",
    "\n",
    "### ασυμβίβαστα μεταξύ τους στο input_ids βγαίνει ότι το reply το είπε ο speaker1, ενώ στο token_type_ids ότι το είπε ο speaker2 (μάλλον για τον κώδικα του medium μόνο)\n",
    "\n",
    "lm_targets = ([-1] * sum(len(s) for s in sequence[:-1])) \\\n",
    "             + [-1] + tokenizer.convert_tokens_to_ids(sequence[-1][1:])\n",
    "\n",
    "lm_targets # στα labels tou language model έχουν τιμές μόνο τα tokens του reply.\n",
    "lm_distractor = [-1] * len(instance[\"input_ids\"])\n",
    "lm_distractor"
   ]
  },
  {
   "cell_type": "code",
   "execution_count": 59,
   "metadata": {},
   "outputs": [],
   "source": [
    "def decoding_old(logits, method=\"greedy\"):\n",
    "    \"\"\"\n",
    "    Functions that selects the next token to be emmited. Three different approaches are implemented: \n",
    "    \n",
    "    Greedy: the most probable token is selected.\n",
    "    Top-k : \n",
    "    Top-p : \n",
    "    \n",
    "    :param logits: \n",
    "    :param method: the decoding method to be used, Values={'greedy', 'top_k', 'top_p'}\n",
    "    :return: the selected token\n",
    "    \"\"\"\n",
    "    top_k = 100 # sample from the 100 most probable tokens based on their probs\n",
    "    top_p = 0.9 # sample from the n most probable tokens that have a cumulative probability > 0.9 \n",
    "    \n",
    "    if method == \"top_k\":        \n",
    "        logit_k = logits.topk(top_k)[0][-1].item() # value of the 100th most probable\n",
    "        logits[logits < logit_k] = -float('Inf')   # cut off the tail  \n",
    "        \n",
    "    elif method == \"top_p\":\n",
    "        logits_sorted, logits_indexes = logits.sort(dim=-1, descending=True) # start the cumulation from the most probable token in descending order\n",
    "        probs = F.softmax(logits_sorted, dim=-1)\n",
    "        cum_probs = probs.cumsum(dim=-1)\n",
    "        \n",
    "        indices = cum_probs > top_p \n",
    "        indices[1:] = indices[:-1].clone()\n",
    "        indices[0] = 0 # at least one token is preserved \n",
    "        \n",
    "        logits[logits_indexes[indices]] = -float('Inf')\n",
    "    \n",
    "    probs = F.softmax(logits, dim=-1)\n",
    "    word = torch.multinomial(probs, 1).item()\n",
    "    # TODO handle the case that special token was emitted in the first peek\n",
    "    \n",
    "    return word"
   ]
  },
  {
   "cell_type": "code",
   "execution_count": 371,
   "metadata": {
    "jupyter": {
     "outputs_hidden": true
    },
    "scrolled": true
   },
   "outputs": [
    {
     "data": {
      "text/plain": [
       "[-1,\n",
       " -1,\n",
       " -1,\n",
       " -1,\n",
       " -1,\n",
       " -1,\n",
       " -1,\n",
       " -1,\n",
       " -1,\n",
       " -1,\n",
       " -1,\n",
       " -1,\n",
       " -1,\n",
       " -1,\n",
       " -1,\n",
       " -1,\n",
       " -1,\n",
       " -1,\n",
       " -1,\n",
       " -1,\n",
       " 249,\n",
       " 2518,\n",
       " 512,\n",
       " 1074,\n",
       " 246,\n",
       " 5358,\n",
       " 500,\n",
       " 481,\n",
       " 3361,\n",
       " 40479]"
      ]
     },
     "execution_count": 371,
     "metadata": {},
     "output_type": "execute_result"
    }
   ],
   "source": [
    "instance['lm_labels']"
   ]
  }
 ],
 "metadata": {
  "kernelspec": {
   "display_name": "Python 3",
   "language": "python",
   "name": "python3"
  },
  "language_info": {
   "codemirror_mode": {
    "name": "ipython",
    "version": 3
   },
   "file_extension": ".py",
   "mimetype": "text/x-python",
   "name": "python",
   "nbconvert_exporter": "python",
   "pygments_lexer": "ipython3",
   "version": "3.6.9"
  }
 },
 "nbformat": 4,
 "nbformat_minor": 4
}
